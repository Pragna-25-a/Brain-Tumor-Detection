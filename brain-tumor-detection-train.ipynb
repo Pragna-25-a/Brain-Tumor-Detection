{
 "cells": [
  {
   "cell_type": "code",
   "execution_count": 1,
   "metadata": {},
   "outputs": [],
   "source": [
    "from ultralytics import YOLO\n"
   ]
  },
  {
   "cell_type": "code",
   "execution_count": 2,
   "metadata": {},
   "outputs": [],
   "source": [
    "# Load pretrained YOLOv10n model\n",
    "model = YOLO(\"yolov10n.pt\")"
   ]
  },
  {
   "cell_type": "code",
   "execution_count": 3,
   "metadata": {},
   "outputs": [
    {
     "name": "stdout",
     "output_type": "stream",
     "text": [
      "New https://pypi.org/project/ultralytics/8.3.40 available  Update with 'pip install -U ultralytics'\n",
      "Ultralytics 8.3.32  Python-3.9.20 torch-2.5.1+cpu CPU (AMD PRO A4-4350B R4, 5 COMPUTE CORES 2C+3G)\n",
      "\u001b[34m\u001b[1mengine\\trainer: \u001b[0mtask=detect, mode=train, model=yolov10n.pt, data=C:/Users/zoyak/Downloads/brain-tumor/data.yaml, epochs=30, time=None, patience=10, batch=16, imgsz=640, save=True, save_period=-1, cache=False, device=None, workers=8, project=None, name=train3, exist_ok=False, pretrained=True, optimizer=auto, verbose=True, seed=0, deterministic=True, single_cls=False, rect=False, cos_lr=False, close_mosaic=10, resume=False, amp=True, fraction=1.0, profile=False, freeze=None, multi_scale=False, overlap_mask=True, mask_ratio=4, dropout=0.0, val=True, split=val, save_json=False, save_hybrid=False, conf=None, iou=0.7, max_det=300, half=False, dnn=False, plots=True, source=None, vid_stride=1, stream_buffer=False, visualize=False, augment=False, agnostic_nms=False, classes=None, retina_masks=False, embed=None, show=False, save_frames=False, save_txt=False, save_conf=False, save_crop=False, show_labels=True, show_conf=True, show_boxes=True, line_width=None, format=torchscript, keras=False, optimize=False, int8=False, dynamic=False, simplify=True, opset=None, workspace=4, nms=False, lr0=0.01, lrf=0.001, momentum=0.937, weight_decay=0.0005, warmup_epochs=3.0, warmup_momentum=0.8, warmup_bias_lr=0.1, box=7.5, cls=0.5, dfl=1.5, pose=12.0, kobj=1.0, label_smoothing=0.0, nbs=64, hsv_h=0.015, hsv_s=0.7, hsv_v=0.4, degrees=0.0, translate=0.1, scale=0.5, shear=0.0, perspective=0.0, flipud=0.0, fliplr=0.5, bgr=0.0, mosaic=1.0, mixup=0.0, copy_paste=0.0, copy_paste_mode=flip, auto_augment=randaugment, erasing=0.4, crop_fraction=1.0, cfg=None, tracker=botsort.yaml, save_dir=runs\\detect\\train3\n",
      "Overriding model.yaml nc=80 with nc=2\n",
      "\n",
      "                   from  n    params  module                                       arguments                     \n",
      "  0                  -1  1       464  ultralytics.nn.modules.conv.Conv             [3, 16, 3, 2]                 \n",
      "  1                  -1  1      4672  ultralytics.nn.modules.conv.Conv             [16, 32, 3, 2]                \n",
      "  2                  -1  1      7360  ultralytics.nn.modules.block.C2f             [32, 32, 1, True]             \n",
      "  3                  -1  1     18560  ultralytics.nn.modules.conv.Conv             [32, 64, 3, 2]                \n",
      "  4                  -1  2     49664  ultralytics.nn.modules.block.C2f             [64, 64, 2, True]             \n",
      "  5                  -1  1      9856  ultralytics.nn.modules.block.SCDown          [64, 128, 3, 2]               \n",
      "  6                  -1  2    197632  ultralytics.nn.modules.block.C2f             [128, 128, 2, True]           \n",
      "  7                  -1  1     36096  ultralytics.nn.modules.block.SCDown          [128, 256, 3, 2]              \n",
      "  8                  -1  1    460288  ultralytics.nn.modules.block.C2f             [256, 256, 1, True]           \n",
      "  9                  -1  1    164608  ultralytics.nn.modules.block.SPPF            [256, 256, 5]                 \n",
      " 10                  -1  1    249728  ultralytics.nn.modules.block.PSA             [256, 256]                    \n",
      " 11                  -1  1         0  torch.nn.modules.upsampling.Upsample         [None, 2, 'nearest']          \n",
      " 12             [-1, 6]  1         0  ultralytics.nn.modules.conv.Concat           [1]                           \n",
      " 13                  -1  1    148224  ultralytics.nn.modules.block.C2f             [384, 128, 1]                 \n",
      " 14                  -1  1         0  torch.nn.modules.upsampling.Upsample         [None, 2, 'nearest']          \n",
      " 15             [-1, 4]  1         0  ultralytics.nn.modules.conv.Concat           [1]                           \n",
      " 16                  -1  1     37248  ultralytics.nn.modules.block.C2f             [192, 64, 1]                  \n",
      " 17                  -1  1     36992  ultralytics.nn.modules.conv.Conv             [64, 64, 3, 2]                \n",
      " 18            [-1, 13]  1         0  ultralytics.nn.modules.conv.Concat           [1]                           \n",
      " 19                  -1  1    123648  ultralytics.nn.modules.block.C2f             [192, 128, 1]                 \n",
      " 20                  -1  1     18048  ultralytics.nn.modules.block.SCDown          [128, 128, 3, 2]              \n",
      " 21            [-1, 10]  1         0  ultralytics.nn.modules.conv.Concat           [1]                           \n",
      " 22                  -1  1    282624  ultralytics.nn.modules.block.C2fCIB          [384, 256, 1, True, True]     \n",
      " 23        [16, 19, 22]  1    862108  ultralytics.nn.modules.head.v10Detect        [2, [64, 128, 256]]           \n",
      "YOLOv10n summary: 385 layers, 2,707,820 parameters, 2,707,804 gradients, 8.4 GFLOPs\n",
      "\n",
      "Transferred 493/595 items from pretrained weights\n",
      "Freezing layer 'model.23.dfl.conv.weight'\n"
     ]
    },
    {
     "name": "stderr",
     "output_type": "stream",
     "text": [
      "\u001b[34m\u001b[1mtrain: \u001b[0mScanning C:\\Users\\zoyak\\Downloads\\brain-tumor\\dataset2\\train\\labels... 851 images, 217 backgrounds, 0 corrupt: 100%|██████████| 851/851 [00:46<00:00, 18.35it/s]\n"
     ]
    },
    {
     "name": "stdout",
     "output_type": "stream",
     "text": [
      "\u001b[34m\u001b[1mtrain: \u001b[0mNew cache created: C:\\Users\\zoyak\\Downloads\\brain-tumor\\dataset2\\train\\labels.cache\n"
     ]
    },
    {
     "name": "stderr",
     "output_type": "stream",
     "text": [
      "\u001b[34m\u001b[1mval: \u001b[0mScanning C:\\Users\\zoyak\\Downloads\\brain-tumor\\dataset2\\valid\\labels... 199 images, 0 backgrounds, 0 corrupt: 100%|██████████| 199/199 [00:09<00:00, 20.91it/s]\n"
     ]
    },
    {
     "name": "stdout",
     "output_type": "stream",
     "text": [
      "\u001b[34m\u001b[1mval: \u001b[0mNew cache created: C:\\Users\\zoyak\\Downloads\\brain-tumor\\dataset2\\valid\\labels.cache\n",
      "Plotting labels to runs\\detect\\train3\\labels.jpg... \n",
      "\u001b[34m\u001b[1moptimizer:\u001b[0m 'optimizer=auto' found, ignoring 'lr0=0.01' and 'momentum=0.937' and determining best 'optimizer', 'lr0' and 'momentum' automatically... \n",
      "\u001b[34m\u001b[1moptimizer:\u001b[0m AdamW(lr=0.001667, momentum=0.9) with parameter groups 95 weight(decay=0.0), 108 weight(decay=0.0005), 107 bias(decay=0.0)\n",
      "Image sizes 640 train, 640 val\n",
      "Using 0 dataloader workers\n",
      "Logging results to \u001b[1mruns\\detect\\train3\u001b[0m\n",
      "Starting training for 30 epochs...\n",
      "\n",
      "      Epoch    GPU_mem   box_loss   cls_loss   dfl_loss  Instances       Size\n"
     ]
    },
    {
     "name": "stderr",
     "output_type": "stream",
     "text": [
      "       1/30         0G      2.582      11.82      2.702          1        640: 100%|██████████| 54/54 [45:17<00:00, 50.33s/it]\n",
      "                 Class     Images  Instances      Box(P          R      mAP50  mAP50-95): 100%|██████████| 7/7 [03:30<00:00, 30.13s/it]"
     ]
    },
    {
     "name": "stdout",
     "output_type": "stream",
     "text": [
      "                   all        199        202     0.0061      0.985      0.313       0.15\n"
     ]
    },
    {
     "name": "stderr",
     "output_type": "stream",
     "text": [
      "\n"
     ]
    },
    {
     "name": "stdout",
     "output_type": "stream",
     "text": [
      "\n",
      "      Epoch    GPU_mem   box_loss   cls_loss   dfl_loss  Instances       Size\n"
     ]
    },
    {
     "name": "stderr",
     "output_type": "stream",
     "text": [
      "       2/30         0G      2.715      9.063      2.702          3        640: 100%|██████████| 54/54 [1:30:05<00:00, 100.11s/it]  \n",
      "                 Class     Images  Instances      Box(P          R      mAP50  mAP50-95): 100%|██████████| 7/7 [03:26<00:00, 29.54s/it]"
     ]
    },
    {
     "name": "stdout",
     "output_type": "stream",
     "text": [
      "                   all        199        202      0.654      0.545      0.617      0.372\n"
     ]
    },
    {
     "name": "stderr",
     "output_type": "stream",
     "text": [
      "\n"
     ]
    },
    {
     "name": "stdout",
     "output_type": "stream",
     "text": [
      "\n",
      "      Epoch    GPU_mem   box_loss   cls_loss   dfl_loss  Instances       Size\n"
     ]
    },
    {
     "name": "stderr",
     "output_type": "stream",
     "text": [
      "       3/30         0G      2.868      7.181      2.781          4        640: 100%|██████████| 54/54 [47:39<00:00, 52.95s/it]\n",
      "                 Class     Images  Instances      Box(P          R      mAP50  mAP50-95): 100%|██████████| 7/7 [04:08<00:00, 35.47s/it]"
     ]
    },
    {
     "name": "stdout",
     "output_type": "stream",
     "text": [
      "                   all        199        202      0.656      0.547      0.591       0.34\n"
     ]
    },
    {
     "name": "stderr",
     "output_type": "stream",
     "text": [
      "\n"
     ]
    },
    {
     "name": "stdout",
     "output_type": "stream",
     "text": [
      "\n",
      "      Epoch    GPU_mem   box_loss   cls_loss   dfl_loss  Instances       Size\n"
     ]
    },
    {
     "name": "stderr",
     "output_type": "stream",
     "text": [
      "       4/30         0G      2.788      5.547      2.776          2        640: 100%|██████████| 54/54 [45:40<00:00, 50.75s/it]\n",
      "                 Class     Images  Instances      Box(P          R      mAP50  mAP50-95): 100%|██████████| 7/7 [03:20<00:00, 28.64s/it]"
     ]
    },
    {
     "name": "stdout",
     "output_type": "stream",
     "text": [
      "                   all        199        202      0.709      0.603      0.716      0.418\n"
     ]
    },
    {
     "name": "stderr",
     "output_type": "stream",
     "text": [
      "\n"
     ]
    },
    {
     "name": "stdout",
     "output_type": "stream",
     "text": [
      "\n",
      "      Epoch    GPU_mem   box_loss   cls_loss   dfl_loss  Instances       Size\n"
     ]
    },
    {
     "name": "stderr",
     "output_type": "stream",
     "text": [
      "       5/30         0G      2.717      4.517      2.684          4        640: 100%|██████████| 54/54 [43:13<00:00, 48.03s/it]\n",
      "                 Class     Images  Instances      Box(P          R      mAP50  mAP50-95): 100%|██████████| 7/7 [03:21<00:00, 28.77s/it]"
     ]
    },
    {
     "name": "stdout",
     "output_type": "stream",
     "text": [
      "                   all        199        202      0.699      0.431      0.506       0.31\n"
     ]
    },
    {
     "name": "stderr",
     "output_type": "stream",
     "text": [
      "\n"
     ]
    },
    {
     "name": "stdout",
     "output_type": "stream",
     "text": [
      "\n",
      "      Epoch    GPU_mem   box_loss   cls_loss   dfl_loss  Instances       Size\n"
     ]
    },
    {
     "name": "stderr",
     "output_type": "stream",
     "text": [
      "       6/30         0G      2.663      3.864      2.631          6        640: 100%|██████████| 54/54 [42:19<00:00, 47.03s/it]\n",
      "                 Class     Images  Instances      Box(P          R      mAP50  mAP50-95): 100%|██████████| 7/7 [03:16<00:00, 28.00s/it]"
     ]
    },
    {
     "name": "stdout",
     "output_type": "stream",
     "text": [
      "                   all        199        202      0.713      0.708      0.798      0.466\n"
     ]
    },
    {
     "name": "stderr",
     "output_type": "stream",
     "text": [
      "\n"
     ]
    },
    {
     "name": "stdout",
     "output_type": "stream",
     "text": [
      "\n",
      "      Epoch    GPU_mem   box_loss   cls_loss   dfl_loss  Instances       Size\n"
     ]
    },
    {
     "name": "stderr",
     "output_type": "stream",
     "text": [
      "       7/30         0G      2.684      3.546      2.664          4        640: 100%|██████████| 54/54 [41:59<00:00, 46.66s/it]\n",
      "                 Class     Images  Instances      Box(P          R      mAP50  mAP50-95): 100%|██████████| 7/7 [03:14<00:00, 27.81s/it]"
     ]
    },
    {
     "name": "stdout",
     "output_type": "stream",
     "text": [
      "                   all        199        202      0.722      0.811      0.824       0.52\n"
     ]
    },
    {
     "name": "stderr",
     "output_type": "stream",
     "text": [
      "\n"
     ]
    },
    {
     "name": "stdout",
     "output_type": "stream",
     "text": [
      "\n",
      "      Epoch    GPU_mem   box_loss   cls_loss   dfl_loss  Instances       Size\n"
     ]
    },
    {
     "name": "stderr",
     "output_type": "stream",
     "text": [
      "       8/30         0G      2.571      3.075      2.587          7        640: 100%|██████████| 54/54 [42:02<00:00, 46.72s/it]\n",
      "                 Class     Images  Instances      Box(P          R      mAP50  mAP50-95): 100%|██████████| 7/7 [03:16<00:00, 28.13s/it]"
     ]
    },
    {
     "name": "stdout",
     "output_type": "stream",
     "text": [
      "                   all        199        202      0.734      0.698      0.733       0.45\n"
     ]
    },
    {
     "name": "stderr",
     "output_type": "stream",
     "text": [
      "\n"
     ]
    },
    {
     "name": "stdout",
     "output_type": "stream",
     "text": [
      "\n",
      "      Epoch    GPU_mem   box_loss   cls_loss   dfl_loss  Instances       Size\n"
     ]
    },
    {
     "name": "stderr",
     "output_type": "stream",
     "text": [
      "       9/30         0G      2.472      2.727      2.515          7        640: 100%|██████████| 54/54 [42:05<00:00, 46.77s/it]\n",
      "                 Class     Images  Instances      Box(P          R      mAP50  mAP50-95): 100%|██████████| 7/7 [03:18<00:00, 28.30s/it]"
     ]
    },
    {
     "name": "stdout",
     "output_type": "stream",
     "text": [
      "                   all        199        202      0.845      0.827        0.9      0.629\n"
     ]
    },
    {
     "name": "stderr",
     "output_type": "stream",
     "text": [
      "\n"
     ]
    },
    {
     "name": "stdout",
     "output_type": "stream",
     "text": [
      "\n",
      "      Epoch    GPU_mem   box_loss   cls_loss   dfl_loss  Instances       Size\n"
     ]
    },
    {
     "name": "stderr",
     "output_type": "stream",
     "text": [
      "      10/30         0G      2.466       2.68      2.523          6        640: 100%|██████████| 54/54 [42:04<00:00, 46.75s/it]\n",
      "                 Class     Images  Instances      Box(P          R      mAP50  mAP50-95): 100%|██████████| 7/7 [03:15<00:00, 27.98s/it]"
     ]
    },
    {
     "name": "stdout",
     "output_type": "stream",
     "text": [
      "                   all        199        202      0.857      0.807      0.884        0.6\n"
     ]
    },
    {
     "name": "stderr",
     "output_type": "stream",
     "text": [
      "\n"
     ]
    },
    {
     "name": "stdout",
     "output_type": "stream",
     "text": [
      "\n",
      "      Epoch    GPU_mem   box_loss   cls_loss   dfl_loss  Instances       Size\n"
     ]
    },
    {
     "name": "stderr",
     "output_type": "stream",
     "text": [
      "      11/30         0G      2.403      2.527      2.459          5        640: 100%|██████████| 54/54 [42:05<00:00, 46.78s/it]\n",
      "                 Class     Images  Instances      Box(P          R      mAP50  mAP50-95): 100%|██████████| 7/7 [03:14<00:00, 27.83s/it]"
     ]
    },
    {
     "name": "stdout",
     "output_type": "stream",
     "text": [
      "                   all        199        202      0.913      0.792       0.92      0.597\n"
     ]
    },
    {
     "name": "stderr",
     "output_type": "stream",
     "text": [
      "\n"
     ]
    },
    {
     "name": "stdout",
     "output_type": "stream",
     "text": [
      "\n",
      "      Epoch    GPU_mem   box_loss   cls_loss   dfl_loss  Instances       Size\n"
     ]
    },
    {
     "name": "stderr",
     "output_type": "stream",
     "text": [
      "      12/30         0G      2.465      2.575      2.501          3        640: 100%|██████████| 54/54 [41:59<00:00, 46.66s/it]\n",
      "                 Class     Images  Instances      Box(P          R      mAP50  mAP50-95): 100%|██████████| 7/7 [03:15<00:00, 27.98s/it]"
     ]
    },
    {
     "name": "stdout",
     "output_type": "stream",
     "text": [
      "                   all        199        202      0.905      0.754      0.903      0.645\n"
     ]
    },
    {
     "name": "stderr",
     "output_type": "stream",
     "text": [
      "\n"
     ]
    },
    {
     "name": "stdout",
     "output_type": "stream",
     "text": [
      "\n",
      "      Epoch    GPU_mem   box_loss   cls_loss   dfl_loss  Instances       Size\n"
     ]
    },
    {
     "name": "stderr",
     "output_type": "stream",
     "text": [
      "      13/30         0G      2.484       2.42      2.506          4        640: 100%|██████████| 54/54 [42:15<00:00, 46.95s/it]\n",
      "                 Class     Images  Instances      Box(P          R      mAP50  mAP50-95): 100%|██████████| 7/7 [03:14<00:00, 27.82s/it]"
     ]
    },
    {
     "name": "stdout",
     "output_type": "stream",
     "text": [
      "                   all        199        202      0.863      0.812      0.894      0.615\n"
     ]
    },
    {
     "name": "stderr",
     "output_type": "stream",
     "text": [
      "\n"
     ]
    },
    {
     "name": "stdout",
     "output_type": "stream",
     "text": [
      "\n",
      "      Epoch    GPU_mem   box_loss   cls_loss   dfl_loss  Instances       Size\n"
     ]
    },
    {
     "name": "stderr",
     "output_type": "stream",
     "text": [
      "      14/30         0G      2.315      2.303      2.409          3        640: 100%|██████████| 54/54 [42:24<00:00, 47.11s/it]\n",
      "                 Class     Images  Instances      Box(P          R      mAP50  mAP50-95): 100%|██████████| 7/7 [03:14<00:00, 27.75s/it]"
     ]
    },
    {
     "name": "stdout",
     "output_type": "stream",
     "text": [
      "                   all        199        202      0.859      0.807      0.898      0.621\n"
     ]
    },
    {
     "name": "stderr",
     "output_type": "stream",
     "text": [
      "\n"
     ]
    },
    {
     "name": "stdout",
     "output_type": "stream",
     "text": [
      "\n",
      "      Epoch    GPU_mem   box_loss   cls_loss   dfl_loss  Instances       Size\n"
     ]
    },
    {
     "name": "stderr",
     "output_type": "stream",
     "text": [
      "      15/30         0G      2.286      2.127      2.388          4        640: 100%|██████████| 54/54 [41:36<00:00, 46.24s/it]\n",
      "                 Class     Images  Instances      Box(P          R      mAP50  mAP50-95): 100%|██████████| 7/7 [03:12<00:00, 27.53s/it]"
     ]
    },
    {
     "name": "stdout",
     "output_type": "stream",
     "text": [
      "                   all        199        202      0.922      0.873      0.947        0.7\n"
     ]
    },
    {
     "name": "stderr",
     "output_type": "stream",
     "text": [
      "\n"
     ]
    },
    {
     "name": "stdout",
     "output_type": "stream",
     "text": [
      "\n",
      "      Epoch    GPU_mem   box_loss   cls_loss   dfl_loss  Instances       Size\n"
     ]
    },
    {
     "name": "stderr",
     "output_type": "stream",
     "text": [
      "      16/30         0G      2.299      2.227      2.418          3        640: 100%|██████████| 54/54 [42:19<00:00, 47.04s/it]\n",
      "                 Class     Images  Instances      Box(P          R      mAP50  mAP50-95): 100%|██████████| 7/7 [03:17<00:00, 28.21s/it]"
     ]
    },
    {
     "name": "stdout",
     "output_type": "stream",
     "text": [
      "                   all        199        202      0.893      0.866      0.925      0.672\n"
     ]
    },
    {
     "name": "stderr",
     "output_type": "stream",
     "text": [
      "\n"
     ]
    },
    {
     "name": "stdout",
     "output_type": "stream",
     "text": [
      "\n",
      "      Epoch    GPU_mem   box_loss   cls_loss   dfl_loss  Instances       Size\n"
     ]
    },
    {
     "name": "stderr",
     "output_type": "stream",
     "text": [
      "      17/30         0G      2.213      2.009      2.353          9        640: 100%|██████████| 54/54 [42:14<00:00, 46.93s/it]\n",
      "                 Class     Images  Instances      Box(P          R      mAP50  mAP50-95): 100%|██████████| 7/7 [03:15<00:00, 27.99s/it]"
     ]
    },
    {
     "name": "stdout",
     "output_type": "stream",
     "text": [
      "                   all        199        202      0.932      0.817      0.955      0.687\n"
     ]
    },
    {
     "name": "stderr",
     "output_type": "stream",
     "text": [
      "\n"
     ]
    },
    {
     "name": "stdout",
     "output_type": "stream",
     "text": [
      "\n",
      "      Epoch    GPU_mem   box_loss   cls_loss   dfl_loss  Instances       Size\n"
     ]
    },
    {
     "name": "stderr",
     "output_type": "stream",
     "text": [
      "      18/30         0G      2.261       1.96      2.356          4        640: 100%|██████████| 54/54 [42:07<00:00, 46.81s/it]\n",
      "                 Class     Images  Instances      Box(P          R      mAP50  mAP50-95): 100%|██████████| 7/7 [03:16<00:00, 28.00s/it]"
     ]
    },
    {
     "name": "stdout",
     "output_type": "stream",
     "text": [
      "                   all        199        202      0.952      0.896      0.976       0.69\n"
     ]
    },
    {
     "name": "stderr",
     "output_type": "stream",
     "text": [
      "\n"
     ]
    },
    {
     "name": "stdout",
     "output_type": "stream",
     "text": [
      "\n",
      "      Epoch    GPU_mem   box_loss   cls_loss   dfl_loss  Instances       Size\n"
     ]
    },
    {
     "name": "stderr",
     "output_type": "stream",
     "text": [
      "      19/30         0G      2.224      2.043      2.384          8        640: 100%|██████████| 54/54 [41:55<00:00, 46.58s/it]\n",
      "                 Class     Images  Instances      Box(P          R      mAP50  mAP50-95): 100%|██████████| 7/7 [03:14<00:00, 27.84s/it]"
     ]
    },
    {
     "name": "stdout",
     "output_type": "stream",
     "text": [
      "                   all        199        202      0.927      0.812      0.927      0.664\n"
     ]
    },
    {
     "name": "stderr",
     "output_type": "stream",
     "text": [
      "\n"
     ]
    },
    {
     "name": "stdout",
     "output_type": "stream",
     "text": [
      "\n",
      "      Epoch    GPU_mem   box_loss   cls_loss   dfl_loss  Instances       Size\n"
     ]
    },
    {
     "name": "stderr",
     "output_type": "stream",
     "text": [
      "      20/30         0G      2.168      1.947      2.346          6        640: 100%|██████████| 54/54 [42:27<00:00, 47.17s/it]\n",
      "                 Class     Images  Instances      Box(P          R      mAP50  mAP50-95): 100%|██████████| 7/7 [03:18<00:00, 28.32s/it]"
     ]
    },
    {
     "name": "stdout",
     "output_type": "stream",
     "text": [
      "                   all        199        202      0.956      0.906      0.972      0.717\n"
     ]
    },
    {
     "name": "stderr",
     "output_type": "stream",
     "text": [
      "\n"
     ]
    },
    {
     "name": "stdout",
     "output_type": "stream",
     "text": [
      "Closing dataloader mosaic\n",
      "\n",
      "      Epoch    GPU_mem   box_loss   cls_loss   dfl_loss  Instances       Size\n"
     ]
    },
    {
     "name": "stderr",
     "output_type": "stream",
     "text": [
      "      21/30         0G      1.934      1.613       2.24          2        640: 100%|██████████| 54/54 [42:29<00:00, 47.22s/it]\n",
      "                 Class     Images  Instances      Box(P          R      mAP50  mAP50-95): 100%|██████████| 7/7 [03:26<00:00, 29.48s/it]"
     ]
    },
    {
     "name": "stdout",
     "output_type": "stream",
     "text": [
      "                   all        199        202      0.943      0.916      0.966      0.728\n"
     ]
    },
    {
     "name": "stderr",
     "output_type": "stream",
     "text": [
      "\n"
     ]
    },
    {
     "name": "stdout",
     "output_type": "stream",
     "text": [
      "\n",
      "      Epoch    GPU_mem   box_loss   cls_loss   dfl_loss  Instances       Size\n"
     ]
    },
    {
     "name": "stderr",
     "output_type": "stream",
     "text": [
      "      22/30         0G      1.837      1.416      2.175          2        640: 100%|██████████| 54/54 [42:23<00:00, 47.10s/it]\n",
      "                 Class     Images  Instances      Box(P          R      mAP50  mAP50-95): 100%|██████████| 7/7 [03:17<00:00, 28.24s/it]"
     ]
    },
    {
     "name": "stdout",
     "output_type": "stream",
     "text": [
      "                   all        199        202      0.943      0.909      0.974      0.743\n"
     ]
    },
    {
     "name": "stderr",
     "output_type": "stream",
     "text": [
      "\n"
     ]
    },
    {
     "name": "stdout",
     "output_type": "stream",
     "text": [
      "\n",
      "      Epoch    GPU_mem   box_loss   cls_loss   dfl_loss  Instances       Size\n"
     ]
    },
    {
     "name": "stderr",
     "output_type": "stream",
     "text": [
      "      23/30         0G      1.774      1.389      2.132          3        640: 100%|██████████| 54/54 [41:58<00:00, 46.65s/it]\n",
      "                 Class     Images  Instances      Box(P          R      mAP50  mAP50-95): 100%|██████████| 7/7 [03:17<00:00, 28.28s/it]"
     ]
    },
    {
     "name": "stdout",
     "output_type": "stream",
     "text": [
      "                   all        199        202      0.961      0.926      0.973      0.729\n"
     ]
    },
    {
     "name": "stderr",
     "output_type": "stream",
     "text": [
      "\n"
     ]
    },
    {
     "name": "stdout",
     "output_type": "stream",
     "text": [
      "\n",
      "      Epoch    GPU_mem   box_loss   cls_loss   dfl_loss  Instances       Size\n"
     ]
    },
    {
     "name": "stderr",
     "output_type": "stream",
     "text": [
      "      24/30         0G        1.8      1.329      2.163          2        640: 100%|██████████| 54/54 [42:19<00:00, 47.02s/it]\n",
      "                 Class     Images  Instances      Box(P          R      mAP50  mAP50-95): 100%|██████████| 7/7 [03:19<00:00, 28.49s/it]"
     ]
    },
    {
     "name": "stdout",
     "output_type": "stream",
     "text": [
      "                   all        199        202      0.934      0.909      0.972      0.718\n"
     ]
    },
    {
     "name": "stderr",
     "output_type": "stream",
     "text": [
      "\n"
     ]
    },
    {
     "name": "stdout",
     "output_type": "stream",
     "text": [
      "\n",
      "      Epoch    GPU_mem   box_loss   cls_loss   dfl_loss  Instances       Size\n"
     ]
    },
    {
     "name": "stderr",
     "output_type": "stream",
     "text": [
      "      25/30         0G        1.8      1.301       2.13          3        640: 100%|██████████| 54/54 [42:09<00:00, 46.84s/it]\n",
      "                 Class     Images  Instances      Box(P          R      mAP50  mAP50-95): 100%|██████████| 7/7 [03:23<00:00, 29.01s/it]"
     ]
    },
    {
     "name": "stdout",
     "output_type": "stream",
     "text": [
      "                   all        199        202      0.889      0.916      0.965      0.743\n"
     ]
    },
    {
     "name": "stderr",
     "output_type": "stream",
     "text": [
      "\n"
     ]
    },
    {
     "name": "stdout",
     "output_type": "stream",
     "text": [
      "\n",
      "      Epoch    GPU_mem   box_loss   cls_loss   dfl_loss  Instances       Size\n"
     ]
    },
    {
     "name": "stderr",
     "output_type": "stream",
     "text": [
      "      26/30         0G      1.734       1.27      2.109          2        640: 100%|██████████| 54/54 [42:18<00:00, 47.01s/it]\n",
      "                 Class     Images  Instances      Box(P          R      mAP50  mAP50-95): 100%|██████████| 7/7 [03:18<00:00, 28.40s/it]"
     ]
    },
    {
     "name": "stdout",
     "output_type": "stream",
     "text": [
      "                   all        199        202      0.957      0.906      0.962      0.737\n"
     ]
    },
    {
     "name": "stderr",
     "output_type": "stream",
     "text": [
      "\n"
     ]
    },
    {
     "name": "stdout",
     "output_type": "stream",
     "text": [
      "\n",
      "      Epoch    GPU_mem   box_loss   cls_loss   dfl_loss  Instances       Size\n"
     ]
    },
    {
     "name": "stderr",
     "output_type": "stream",
     "text": [
      "      27/30         0G      1.704      1.223      2.117          3        640: 100%|██████████| 54/54 [43:01<00:00, 47.80s/it]\n",
      "                 Class     Images  Instances      Box(P          R      mAP50  mAP50-95): 100%|██████████| 7/7 [03:23<00:00, 29.10s/it]"
     ]
    },
    {
     "name": "stdout",
     "output_type": "stream",
     "text": [
      "                   all        199        202      0.954      0.916      0.978      0.741\n"
     ]
    },
    {
     "name": "stderr",
     "output_type": "stream",
     "text": [
      "\n"
     ]
    },
    {
     "name": "stdout",
     "output_type": "stream",
     "text": [
      "\n",
      "      Epoch    GPU_mem   box_loss   cls_loss   dfl_loss  Instances       Size\n"
     ]
    },
    {
     "name": "stderr",
     "output_type": "stream",
     "text": [
      "      28/30         0G      1.729      1.226       2.09          1        640: 100%|██████████| 54/54 [42:37<00:00, 47.36s/it]\n",
      "                 Class     Images  Instances      Box(P          R      mAP50  mAP50-95): 100%|██████████| 7/7 [03:17<00:00, 28.21s/it]"
     ]
    },
    {
     "name": "stdout",
     "output_type": "stream",
     "text": [
      "                   all        199        202      0.964      0.924      0.982       0.75\n"
     ]
    },
    {
     "name": "stderr",
     "output_type": "stream",
     "text": [
      "\n"
     ]
    },
    {
     "name": "stdout",
     "output_type": "stream",
     "text": [
      "\n",
      "      Epoch    GPU_mem   box_loss   cls_loss   dfl_loss  Instances       Size\n"
     ]
    },
    {
     "name": "stderr",
     "output_type": "stream",
     "text": [
      "      29/30         0G      1.628      1.128      2.042          1        640: 100%|██████████| 54/54 [42:07<00:00, 46.81s/it]\n",
      "                 Class     Images  Instances      Box(P          R      mAP50  mAP50-95): 100%|██████████| 7/7 [03:18<00:00, 28.34s/it]"
     ]
    },
    {
     "name": "stdout",
     "output_type": "stream",
     "text": [
      "                   all        199        202      0.984      0.921      0.984      0.758\n"
     ]
    },
    {
     "name": "stderr",
     "output_type": "stream",
     "text": [
      "\n"
     ]
    },
    {
     "name": "stdout",
     "output_type": "stream",
     "text": [
      "\n",
      "      Epoch    GPU_mem   box_loss   cls_loss   dfl_loss  Instances       Size\n"
     ]
    },
    {
     "name": "stderr",
     "output_type": "stream",
     "text": [
      "      30/30         0G      1.661      1.093      2.039          2        640: 100%|██████████| 54/54 [42:36<00:00, 47.34s/it]\n",
      "                 Class     Images  Instances      Box(P          R      mAP50  mAP50-95): 100%|██████████| 7/7 [03:20<00:00, 28.63s/it]"
     ]
    },
    {
     "name": "stdout",
     "output_type": "stream",
     "text": [
      "                   all        199        202       0.99      0.934      0.986      0.757\n"
     ]
    },
    {
     "name": "stderr",
     "output_type": "stream",
     "text": [
      "\n"
     ]
    },
    {
     "name": "stdout",
     "output_type": "stream",
     "text": [
      "\n",
      "30 epochs completed in 23.818 hours.\n",
      "Optimizer stripped from runs\\detect\\train3\\weights\\last.pt, 5.7MB\n",
      "Optimizer stripped from runs\\detect\\train3\\weights\\best.pt, 5.7MB\n",
      "\n",
      "Validating runs\\detect\\train3\\weights\\best.pt...\n",
      "Ultralytics 8.3.32  Python-3.9.20 torch-2.5.1+cpu CPU (AMD PRO A4-4350B R4, 5 COMPUTE CORES 2C+3G)\n",
      "YOLOv10n summary (fused): 285 layers, 2,695,196 parameters, 0 gradients, 8.2 GFLOPs\n"
     ]
    },
    {
     "name": "stderr",
     "output_type": "stream",
     "text": [
      "                 Class     Images  Instances      Box(P          R      mAP50  mAP50-95): 100%|██████████| 7/7 [02:52<00:00, 24.61s/it]\n"
     ]
    },
    {
     "name": "stdout",
     "output_type": "stream",
     "text": [
      "                   all        199        202      0.984       0.92      0.984      0.758\n",
      "              positive        199        202      0.984       0.92      0.984      0.758\n",
      "Speed: 12.2ms preprocess, 826.0ms inference, 0.0ms loss, 0.1ms postprocess per image\n",
      "Results saved to \u001b[1mruns\\detect\\train3\u001b[0m\n"
     ]
    },
    {
     "data": {
      "text/plain": [
       "ultralytics.utils.metrics.DetMetrics object with attributes:\n",
       "\n",
       "ap_class_index: array([1])\n",
       "box: ultralytics.utils.metrics.Metric object\n",
       "confusion_matrix: <ultralytics.utils.metrics.ConfusionMatrix object at 0x000001672F733940>\n",
       "curves: ['Precision-Recall(B)', 'F1-Confidence(B)', 'Precision-Confidence(B)', 'Recall-Confidence(B)']\n",
       "curves_results: [[array([          0,    0.001001,    0.002002,    0.003003,    0.004004,    0.005005,    0.006006,    0.007007,    0.008008,    0.009009,     0.01001,    0.011011,    0.012012,    0.013013,    0.014014,    0.015015,    0.016016,    0.017017,    0.018018,    0.019019,     0.02002,    0.021021,    0.022022,    0.023023,\n",
       "          0.024024,    0.025025,    0.026026,    0.027027,    0.028028,    0.029029,     0.03003,    0.031031,    0.032032,    0.033033,    0.034034,    0.035035,    0.036036,    0.037037,    0.038038,    0.039039,     0.04004,    0.041041,    0.042042,    0.043043,    0.044044,    0.045045,    0.046046,    0.047047,\n",
       "          0.048048,    0.049049,     0.05005,    0.051051,    0.052052,    0.053053,    0.054054,    0.055055,    0.056056,    0.057057,    0.058058,    0.059059,     0.06006,    0.061061,    0.062062,    0.063063,    0.064064,    0.065065,    0.066066,    0.067067,    0.068068,    0.069069,     0.07007,    0.071071,\n",
       "          0.072072,    0.073073,    0.074074,    0.075075,    0.076076,    0.077077,    0.078078,    0.079079,     0.08008,    0.081081,    0.082082,    0.083083,    0.084084,    0.085085,    0.086086,    0.087087,    0.088088,    0.089089,     0.09009,    0.091091,    0.092092,    0.093093,    0.094094,    0.095095,\n",
       "          0.096096,    0.097097,    0.098098,    0.099099,      0.1001,      0.1011,      0.1021,      0.1031,      0.1041,     0.10511,     0.10611,     0.10711,     0.10811,     0.10911,     0.11011,     0.11111,     0.11211,     0.11311,     0.11411,     0.11512,     0.11612,     0.11712,     0.11812,     0.11912,\n",
       "           0.12012,     0.12112,     0.12212,     0.12312,     0.12412,     0.12513,     0.12613,     0.12713,     0.12813,     0.12913,     0.13013,     0.13113,     0.13213,     0.13313,     0.13413,     0.13514,     0.13614,     0.13714,     0.13814,     0.13914,     0.14014,     0.14114,     0.14214,     0.14314,\n",
       "           0.14414,     0.14515,     0.14615,     0.14715,     0.14815,     0.14915,     0.15015,     0.15115,     0.15215,     0.15315,     0.15415,     0.15516,     0.15616,     0.15716,     0.15816,     0.15916,     0.16016,     0.16116,     0.16216,     0.16316,     0.16416,     0.16517,     0.16617,     0.16717,\n",
       "           0.16817,     0.16917,     0.17017,     0.17117,     0.17217,     0.17317,     0.17417,     0.17518,     0.17618,     0.17718,     0.17818,     0.17918,     0.18018,     0.18118,     0.18218,     0.18318,     0.18418,     0.18519,     0.18619,     0.18719,     0.18819,     0.18919,     0.19019,     0.19119,\n",
       "           0.19219,     0.19319,     0.19419,      0.1952,      0.1962,      0.1972,      0.1982,      0.1992,      0.2002,      0.2012,      0.2022,      0.2032,      0.2042,     0.20521,     0.20621,     0.20721,     0.20821,     0.20921,     0.21021,     0.21121,     0.21221,     0.21321,     0.21421,     0.21522,\n",
       "           0.21622,     0.21722,     0.21822,     0.21922,     0.22022,     0.22122,     0.22222,     0.22322,     0.22422,     0.22523,     0.22623,     0.22723,     0.22823,     0.22923,     0.23023,     0.23123,     0.23223,     0.23323,     0.23423,     0.23524,     0.23624,     0.23724,     0.23824,     0.23924,\n",
       "           0.24024,     0.24124,     0.24224,     0.24324,     0.24424,     0.24525,     0.24625,     0.24725,     0.24825,     0.24925,     0.25025,     0.25125,     0.25225,     0.25325,     0.25425,     0.25526,     0.25626,     0.25726,     0.25826,     0.25926,     0.26026,     0.26126,     0.26226,     0.26326,\n",
       "           0.26426,     0.26527,     0.26627,     0.26727,     0.26827,     0.26927,     0.27027,     0.27127,     0.27227,     0.27327,     0.27427,     0.27528,     0.27628,     0.27728,     0.27828,     0.27928,     0.28028,     0.28128,     0.28228,     0.28328,     0.28428,     0.28529,     0.28629,     0.28729,\n",
       "           0.28829,     0.28929,     0.29029,     0.29129,     0.29229,     0.29329,     0.29429,      0.2953,      0.2963,      0.2973,      0.2983,      0.2993,      0.3003,      0.3013,      0.3023,      0.3033,      0.3043,     0.30531,     0.30631,     0.30731,     0.30831,     0.30931,     0.31031,     0.31131,\n",
       "           0.31231,     0.31331,     0.31431,     0.31532,     0.31632,     0.31732,     0.31832,     0.31932,     0.32032,     0.32132,     0.32232,     0.32332,     0.32432,     0.32533,     0.32633,     0.32733,     0.32833,     0.32933,     0.33033,     0.33133,     0.33233,     0.33333,     0.33433,     0.33534,\n",
       "           0.33634,     0.33734,     0.33834,     0.33934,     0.34034,     0.34134,     0.34234,     0.34334,     0.34434,     0.34535,     0.34635,     0.34735,     0.34835,     0.34935,     0.35035,     0.35135,     0.35235,     0.35335,     0.35435,     0.35536,     0.35636,     0.35736,     0.35836,     0.35936,\n",
       "           0.36036,     0.36136,     0.36236,     0.36336,     0.36436,     0.36537,     0.36637,     0.36737,     0.36837,     0.36937,     0.37037,     0.37137,     0.37237,     0.37337,     0.37437,     0.37538,     0.37638,     0.37738,     0.37838,     0.37938,     0.38038,     0.38138,     0.38238,     0.38338,\n",
       "           0.38438,     0.38539,     0.38639,     0.38739,     0.38839,     0.38939,     0.39039,     0.39139,     0.39239,     0.39339,     0.39439,      0.3954,      0.3964,      0.3974,      0.3984,      0.3994,      0.4004,      0.4014,      0.4024,      0.4034,      0.4044,     0.40541,     0.40641,     0.40741,\n",
       "           0.40841,     0.40941,     0.41041,     0.41141,     0.41241,     0.41341,     0.41441,     0.41542,     0.41642,     0.41742,     0.41842,     0.41942,     0.42042,     0.42142,     0.42242,     0.42342,     0.42442,     0.42543,     0.42643,     0.42743,     0.42843,     0.42943,     0.43043,     0.43143,\n",
       "           0.43243,     0.43343,     0.43443,     0.43544,     0.43644,     0.43744,     0.43844,     0.43944,     0.44044,     0.44144,     0.44244,     0.44344,     0.44444,     0.44545,     0.44645,     0.44745,     0.44845,     0.44945,     0.45045,     0.45145,     0.45245,     0.45345,     0.45445,     0.45546,\n",
       "           0.45646,     0.45746,     0.45846,     0.45946,     0.46046,     0.46146,     0.46246,     0.46346,     0.46446,     0.46547,     0.46647,     0.46747,     0.46847,     0.46947,     0.47047,     0.47147,     0.47247,     0.47347,     0.47447,     0.47548,     0.47648,     0.47748,     0.47848,     0.47948,\n",
       "           0.48048,     0.48148,     0.48248,     0.48348,     0.48448,     0.48549,     0.48649,     0.48749,     0.48849,     0.48949,     0.49049,     0.49149,     0.49249,     0.49349,     0.49449,      0.4955,      0.4965,      0.4975,      0.4985,      0.4995,      0.5005,      0.5015,      0.5025,      0.5035,\n",
       "            0.5045,     0.50551,     0.50651,     0.50751,     0.50851,     0.50951,     0.51051,     0.51151,     0.51251,     0.51351,     0.51451,     0.51552,     0.51652,     0.51752,     0.51852,     0.51952,     0.52052,     0.52152,     0.52252,     0.52352,     0.52452,     0.52553,     0.52653,     0.52753,\n",
       "           0.52853,     0.52953,     0.53053,     0.53153,     0.53253,     0.53353,     0.53453,     0.53554,     0.53654,     0.53754,     0.53854,     0.53954,     0.54054,     0.54154,     0.54254,     0.54354,     0.54454,     0.54555,     0.54655,     0.54755,     0.54855,     0.54955,     0.55055,     0.55155,\n",
       "           0.55255,     0.55355,     0.55455,     0.55556,     0.55656,     0.55756,     0.55856,     0.55956,     0.56056,     0.56156,     0.56256,     0.56356,     0.56456,     0.56557,     0.56657,     0.56757,     0.56857,     0.56957,     0.57057,     0.57157,     0.57257,     0.57357,     0.57457,     0.57558,\n",
       "           0.57658,     0.57758,     0.57858,     0.57958,     0.58058,     0.58158,     0.58258,     0.58358,     0.58458,     0.58559,     0.58659,     0.58759,     0.58859,     0.58959,     0.59059,     0.59159,     0.59259,     0.59359,     0.59459,      0.5956,      0.5966,      0.5976,      0.5986,      0.5996,\n",
       "            0.6006,      0.6016,      0.6026,      0.6036,      0.6046,     0.60561,     0.60661,     0.60761,     0.60861,     0.60961,     0.61061,     0.61161,     0.61261,     0.61361,     0.61461,     0.61562,     0.61662,     0.61762,     0.61862,     0.61962,     0.62062,     0.62162,     0.62262,     0.62362,\n",
       "           0.62462,     0.62563,     0.62663,     0.62763,     0.62863,     0.62963,     0.63063,     0.63163,     0.63263,     0.63363,     0.63463,     0.63564,     0.63664,     0.63764,     0.63864,     0.63964,     0.64064,     0.64164,     0.64264,     0.64364,     0.64464,     0.64565,     0.64665,     0.64765,\n",
       "           0.64865,     0.64965,     0.65065,     0.65165,     0.65265,     0.65365,     0.65465,     0.65566,     0.65666,     0.65766,     0.65866,     0.65966,     0.66066,     0.66166,     0.66266,     0.66366,     0.66466,     0.66567,     0.66667,     0.66767,     0.66867,     0.66967,     0.67067,     0.67167,\n",
       "           0.67267,     0.67367,     0.67467,     0.67568,     0.67668,     0.67768,     0.67868,     0.67968,     0.68068,     0.68168,     0.68268,     0.68368,     0.68468,     0.68569,     0.68669,     0.68769,     0.68869,     0.68969,     0.69069,     0.69169,     0.69269,     0.69369,     0.69469,      0.6957,\n",
       "            0.6967,      0.6977,      0.6987,      0.6997,      0.7007,      0.7017,      0.7027,      0.7037,      0.7047,     0.70571,     0.70671,     0.70771,     0.70871,     0.70971,     0.71071,     0.71171,     0.71271,     0.71371,     0.71471,     0.71572,     0.71672,     0.71772,     0.71872,     0.71972,\n",
       "           0.72072,     0.72172,     0.72272,     0.72372,     0.72472,     0.72573,     0.72673,     0.72773,     0.72873,     0.72973,     0.73073,     0.73173,     0.73273,     0.73373,     0.73473,     0.73574,     0.73674,     0.73774,     0.73874,     0.73974,     0.74074,     0.74174,     0.74274,     0.74374,\n",
       "           0.74474,     0.74575,     0.74675,     0.74775,     0.74875,     0.74975,     0.75075,     0.75175,     0.75275,     0.75375,     0.75475,     0.75576,     0.75676,     0.75776,     0.75876,     0.75976,     0.76076,     0.76176,     0.76276,     0.76376,     0.76476,     0.76577,     0.76677,     0.76777,\n",
       "           0.76877,     0.76977,     0.77077,     0.77177,     0.77277,     0.77377,     0.77477,     0.77578,     0.77678,     0.77778,     0.77878,     0.77978,     0.78078,     0.78178,     0.78278,     0.78378,     0.78478,     0.78579,     0.78679,     0.78779,     0.78879,     0.78979,     0.79079,     0.79179,\n",
       "           0.79279,     0.79379,     0.79479,      0.7958,      0.7968,      0.7978,      0.7988,      0.7998,      0.8008,      0.8018,      0.8028,      0.8038,      0.8048,     0.80581,     0.80681,     0.80781,     0.80881,     0.80981,     0.81081,     0.81181,     0.81281,     0.81381,     0.81481,     0.81582,\n",
       "           0.81682,     0.81782,     0.81882,     0.81982,     0.82082,     0.82182,     0.82282,     0.82382,     0.82482,     0.82583,     0.82683,     0.82783,     0.82883,     0.82983,     0.83083,     0.83183,     0.83283,     0.83383,     0.83483,     0.83584,     0.83684,     0.83784,     0.83884,     0.83984,\n",
       "           0.84084,     0.84184,     0.84284,     0.84384,     0.84484,     0.84585,     0.84685,     0.84785,     0.84885,     0.84985,     0.85085,     0.85185,     0.85285,     0.85385,     0.85485,     0.85586,     0.85686,     0.85786,     0.85886,     0.85986,     0.86086,     0.86186,     0.86286,     0.86386,\n",
       "           0.86486,     0.86587,     0.86687,     0.86787,     0.86887,     0.86987,     0.87087,     0.87187,     0.87287,     0.87387,     0.87487,     0.87588,     0.87688,     0.87788,     0.87888,     0.87988,     0.88088,     0.88188,     0.88288,     0.88388,     0.88488,     0.88589,     0.88689,     0.88789,\n",
       "           0.88889,     0.88989,     0.89089,     0.89189,     0.89289,     0.89389,     0.89489,      0.8959,      0.8969,      0.8979,      0.8989,      0.8999,      0.9009,      0.9019,      0.9029,      0.9039,      0.9049,     0.90591,     0.90691,     0.90791,     0.90891,     0.90991,     0.91091,     0.91191,\n",
       "           0.91291,     0.91391,     0.91491,     0.91592,     0.91692,     0.91792,     0.91892,     0.91992,     0.92092,     0.92192,     0.92292,     0.92392,     0.92492,     0.92593,     0.92693,     0.92793,     0.92893,     0.92993,     0.93093,     0.93193,     0.93293,     0.93393,     0.93493,     0.93594,\n",
       "           0.93694,     0.93794,     0.93894,     0.93994,     0.94094,     0.94194,     0.94294,     0.94394,     0.94494,     0.94595,     0.94695,     0.94795,     0.94895,     0.94995,     0.95095,     0.95195,     0.95295,     0.95395,     0.95495,     0.95596,     0.95696,     0.95796,     0.95896,     0.95996,\n",
       "           0.96096,     0.96196,     0.96296,     0.96396,     0.96496,     0.96597,     0.96697,     0.96797,     0.96897,     0.96997,     0.97097,     0.97197,     0.97297,     0.97397,     0.97497,     0.97598,     0.97698,     0.97798,     0.97898,     0.97998,     0.98098,     0.98198,     0.98298,     0.98398,\n",
       "           0.98498,     0.98599,     0.98699,     0.98799,     0.98899,     0.98999,     0.99099,     0.99199,     0.99299,     0.99399,     0.99499,       0.996,       0.997,       0.998,       0.999,           1]), array([[          1,           1,           1,           1,           1,           1,           1,           1,           1,           1,           1,           1,           1,           1,           1,           1,           1,           1,           1,           1,           1,           1,           1,\n",
       "                  1,           1,           1,           1,           1,           1,           1,           1,           1,           1,           1,           1,           1,           1,           1,           1,           1,           1,           1,           1,           1,           1,           1,\n",
       "                  1,           1,           1,           1,           1,           1,           1,           1,           1,           1,           1,           1,           1,           1,           1,           1,           1,           1,           1,           1,           1,           1,           1,\n",
       "                  1,           1,           1,           1,           1,           1,           1,           1,           1,           1,           1,           1,           1,           1,           1,           1,           1,           1,           1,           1,           1,           1,           1,\n",
       "                  1,           1,           1,           1,           1,           1,           1,           1,           1,           1,           1,           1,           1,           1,           1,           1,           1,           1,           1,           1,           1,           1,           1,\n",
       "                  1,           1,           1,           1,           1,           1,           1,           1,           1,           1,           1,           1,           1,           1,           1,           1,           1,           1,           1,           1,           1,           1,           1,\n",
       "                  1,           1,           1,           1,           1,           1,           1,           1,           1,           1,           1,           1,           1,           1,           1,           1,           1,           1,           1,           1,           1,           1,           1,\n",
       "                  1,           1,           1,           1,           1,           1,           1,           1,           1,           1,           1,           1,           1,           1,           1,           1,           1,           1,           1,           1,           1,           1,           1,\n",
       "                  1,           1,           1,           1,           1,           1,           1,           1,           1,           1,           1,           1,           1,           1,           1,           1,           1,           1,           1,           1,           1,           1,           1,\n",
       "                  1,           1,           1,           1,           1,           1,           1,           1,           1,           1,           1,           1,           1,           1,           1,           1,           1,           1,           1,           1,           1,           1,           1,\n",
       "                  1,           1,           1,           1,           1,           1,           1,           1,           1,           1,           1,           1,           1,           1,           1,           1,           1,           1,           1,           1,           1,           1,           1,\n",
       "                  1,           1,           1,           1,           1,           1,           1,           1,           1,           1,           1,           1,           1,           1,           1,           1,           1,           1,           1,           1,           1,           1,           1,\n",
       "                  1,           1,           1,           1,           1,           1,           1,           1,           1,           1,           1,           1,           1,           1,           1,           1,           1,           1,           1,           1,           1,           1,           1,\n",
       "                  1,           1,           1,           1,           1,           1,           1,           1,           1,           1,           1,           1,           1,           1,           1,           1,           1,           1,           1,           1,           1,           1,           1,\n",
       "                  1,           1,           1,           1,           1,           1,           1,           1,           1,           1,           1,           1,           1,           1,           1,           1,           1,           1,           1,           1,           1,           1,           1,\n",
       "                  1,           1,           1,           1,           1,           1,           1,           1,           1,           1,           1,           1,           1,           1,           1,           1,           1,           1,           1,           1,           1,           1,           1,\n",
       "                  1,           1,           1,           1,           1,           1,           1,           1,           1,           1,           1,           1,           1,           1,           1,           1,           1,           1,           1,           1,           1,           1,           1,\n",
       "                  1,           1,           1,           1,           1,           1,           1,           1,           1,           1,           1,           1,           1,           1,           1,           1,           1,           1,           1,           1,           1,           1,           1,\n",
       "                  1,           1,           1,           1,           1,           1,           1,           1,           1,           1,           1,           1,           1,           1,           1,           1,           1,           1,           1,           1,           1,           1,           1,\n",
       "                  1,           1,           1,           1,           1,           1,           1,           1,           1,           1,           1,           1,           1,           1,           1,           1,           1,           1,           1,           1,           1,           1,           1,\n",
       "                  1,           1,           1,           1,           1,           1,           1,           1,           1,           1,           1,           1,           1,           1,           1,           1,           1,           1,           1,           1,           1,           1,           1,\n",
       "                  1,           1,           1,           1,           1,           1,           1,           1,           1,           1,           1,           1,           1,           1,           1,           1,           1,           1,           1,           1,           1,           1,           1,\n",
       "                  1,           1,           1,           1,           1,           1,           1,           1,           1,           1,           1,           1,           1,           1,           1,           1,           1,           1,           1,           1,           1,           1,           1,\n",
       "                  1,           1,           1,           1,           1,           1,           1,           1,           1,           1,           1,           1,           1,           1,           1,           1,           1,           1,           1,           1,           1,           1,           1,\n",
       "                  1,           1,           1,           1,           1,           1,           1,           1,           1,           1,           1,           1,           1,           1,           1,           1,           1,           1,           1,           1,           1,           1,           1,\n",
       "                  1,           1,           1,           1,           1,           1,           1,           1,           1,           1,           1,           1,           1,           1,           1,           1,           1,           1,           1,           1,           1,           1,           1,\n",
       "                  1,           1,           1,           1,           1,           1,           1,           1,           1,           1,           1,           1,           1,           1,           1,           1,           1,           1,           1,           1,           1,           1,           1,\n",
       "                  1,           1,           1,           1,           1,           1,           1,           1,           1,           1,           1,           1,           1,           1,           1,           1,           1,           1,           1,           1,           1,           1,           1,\n",
       "                  1,           1,           1,           1,           1,           1,           1,           1,           1,           1,           1,           1,           1,           1,           1,           1,           1,           1,           1,           1,           1,           1,           1,\n",
       "                  1,           1,           1,           1,           1,           1,           1,           1,           1,           1,           1,           1,           1,           1,           1,           1,           1,           1,           1,           1,           1,           1,           1,\n",
       "                  1,           1,           1,           1,           1,           1,           1,           1,           1,           1,           1,           1,           1,           1,           1,           1,           1,           1,           1,           1,           1,           1,           1,\n",
       "                  1,           1,           1,           1,           1,           1,           1,           1,           1,           1,           1,           1,           1,           1,           1,           1,           1,           1,           1,           1,           1,           1,           1,\n",
       "                  1,           1,           1,           1,           1,           1,           1,           1,           1,           1,           1,           1,           1,           1,           1,           1,           1,           1,           1,           1,           1,           1,           1,\n",
       "                  1,           1,           1,           1,           1,           1,           1,           1,           1,           1,           1,           1,           1,           1,           1,           1,           1,           1,           1,           1,           1,           1,           1,\n",
       "                  1,           1,           1,           1,           1,           1,           1,           1,           1,           1,           1,           1,           1,           1,           1,           1,           1,           1,           1,           1,           1,           1,           1,\n",
       "                  1,           1,           1,           1,           1,           1,           1,           1,           1,           1,           1,           1,           1,           1,           1,           1,           1,           1,           1,           1,           1,           1,           1,\n",
       "                  1,           1,           1,           1,           1,           1,           1,           1,           1,           1,           1,           1,           1,           1,           1,           1,           1,           1,           1,           1,           1,           1,           1,\n",
       "                  1,           1,           1,           1,           1,           1,           1,           1,           1,           1,           1,           1,           1,           1,           1,           1,           1,           1,           1,           1,           1,           1,           1,\n",
       "                  1,           1,           1,           1,           1,           1,           1,     0.99448,     0.99448,     0.99448,     0.99448,     0.99448,     0.99448,     0.99448,     0.99448,     0.99448,     0.99448,      0.9893,      0.9893,      0.9893,      0.9893,      0.9893,      0.9893,\n",
       "             0.9893,      0.9893,      0.9893,      0.9893,      0.9893,      0.9893,      0.9893,      0.9893,      0.9893,      0.9893,      0.9893,      0.9893,      0.9893,      0.9893,      0.9893,      0.9893,      0.9893,      0.9893,     0.98413,     0.98413,     0.98413,     0.98413,     0.98413,\n",
       "            0.97396,     0.97396,     0.97396,     0.97396,     0.97396,     0.94554,     0.94554,     0.94554,     0.94554,     0.94554,     0.94554,     0.94554,     0.94554,     0.94554,     0.94554,     0.94554,     0.94554,     0.94554,     0.94554,     0.94554,     0.94554,     0.94554,     0.94554,\n",
       "            0.94554,     0.94554,     0.93204,     0.93204,     0.93204,     0.93204,     0.93204,      0.8894,      0.8894,      0.8894,      0.8894,      0.8894,     0.87783,     0.87783,     0.87783,     0.87783,     0.87783,     0.87054,     0.87054,     0.87054,     0.87054,     0.87054,     0.86726,\n",
       "            0.86726,     0.86726,     0.86726,     0.86726,     0.82773,     0.82773,     0.82773,     0.82773,     0.82773,     0.81481,     0.81481,     0.81481,     0.81481,     0.81481,     0.70819,     0.70819,     0.70819,     0.70819,     0.70819,     0.56497,     0.56497,     0.56497,     0.56497,\n",
       "            0.56497,     0.41788,     0.41788,     0.41788,     0.41788,     0.41788,     0.28672,     0.21504,     0.14336,     0.07168,           0]]), 'Recall', 'Precision'], [array([          0,    0.001001,    0.002002,    0.003003,    0.004004,    0.005005,    0.006006,    0.007007,    0.008008,    0.009009,     0.01001,    0.011011,    0.012012,    0.013013,    0.014014,    0.015015,    0.016016,    0.017017,    0.018018,    0.019019,     0.02002,    0.021021,    0.022022,    0.023023,\n",
       "          0.024024,    0.025025,    0.026026,    0.027027,    0.028028,    0.029029,     0.03003,    0.031031,    0.032032,    0.033033,    0.034034,    0.035035,    0.036036,    0.037037,    0.038038,    0.039039,     0.04004,    0.041041,    0.042042,    0.043043,    0.044044,    0.045045,    0.046046,    0.047047,\n",
       "          0.048048,    0.049049,     0.05005,    0.051051,    0.052052,    0.053053,    0.054054,    0.055055,    0.056056,    0.057057,    0.058058,    0.059059,     0.06006,    0.061061,    0.062062,    0.063063,    0.064064,    0.065065,    0.066066,    0.067067,    0.068068,    0.069069,     0.07007,    0.071071,\n",
       "          0.072072,    0.073073,    0.074074,    0.075075,    0.076076,    0.077077,    0.078078,    0.079079,     0.08008,    0.081081,    0.082082,    0.083083,    0.084084,    0.085085,    0.086086,    0.087087,    0.088088,    0.089089,     0.09009,    0.091091,    0.092092,    0.093093,    0.094094,    0.095095,\n",
       "          0.096096,    0.097097,    0.098098,    0.099099,      0.1001,      0.1011,      0.1021,      0.1031,      0.1041,     0.10511,     0.10611,     0.10711,     0.10811,     0.10911,     0.11011,     0.11111,     0.11211,     0.11311,     0.11411,     0.11512,     0.11612,     0.11712,     0.11812,     0.11912,\n",
       "           0.12012,     0.12112,     0.12212,     0.12312,     0.12412,     0.12513,     0.12613,     0.12713,     0.12813,     0.12913,     0.13013,     0.13113,     0.13213,     0.13313,     0.13413,     0.13514,     0.13614,     0.13714,     0.13814,     0.13914,     0.14014,     0.14114,     0.14214,     0.14314,\n",
       "           0.14414,     0.14515,     0.14615,     0.14715,     0.14815,     0.14915,     0.15015,     0.15115,     0.15215,     0.15315,     0.15415,     0.15516,     0.15616,     0.15716,     0.15816,     0.15916,     0.16016,     0.16116,     0.16216,     0.16316,     0.16416,     0.16517,     0.16617,     0.16717,\n",
       "           0.16817,     0.16917,     0.17017,     0.17117,     0.17217,     0.17317,     0.17417,     0.17518,     0.17618,     0.17718,     0.17818,     0.17918,     0.18018,     0.18118,     0.18218,     0.18318,     0.18418,     0.18519,     0.18619,     0.18719,     0.18819,     0.18919,     0.19019,     0.19119,\n",
       "           0.19219,     0.19319,     0.19419,      0.1952,      0.1962,      0.1972,      0.1982,      0.1992,      0.2002,      0.2012,      0.2022,      0.2032,      0.2042,     0.20521,     0.20621,     0.20721,     0.20821,     0.20921,     0.21021,     0.21121,     0.21221,     0.21321,     0.21421,     0.21522,\n",
       "           0.21622,     0.21722,     0.21822,     0.21922,     0.22022,     0.22122,     0.22222,     0.22322,     0.22422,     0.22523,     0.22623,     0.22723,     0.22823,     0.22923,     0.23023,     0.23123,     0.23223,     0.23323,     0.23423,     0.23524,     0.23624,     0.23724,     0.23824,     0.23924,\n",
       "           0.24024,     0.24124,     0.24224,     0.24324,     0.24424,     0.24525,     0.24625,     0.24725,     0.24825,     0.24925,     0.25025,     0.25125,     0.25225,     0.25325,     0.25425,     0.25526,     0.25626,     0.25726,     0.25826,     0.25926,     0.26026,     0.26126,     0.26226,     0.26326,\n",
       "           0.26426,     0.26527,     0.26627,     0.26727,     0.26827,     0.26927,     0.27027,     0.27127,     0.27227,     0.27327,     0.27427,     0.27528,     0.27628,     0.27728,     0.27828,     0.27928,     0.28028,     0.28128,     0.28228,     0.28328,     0.28428,     0.28529,     0.28629,     0.28729,\n",
       "           0.28829,     0.28929,     0.29029,     0.29129,     0.29229,     0.29329,     0.29429,      0.2953,      0.2963,      0.2973,      0.2983,      0.2993,      0.3003,      0.3013,      0.3023,      0.3033,      0.3043,     0.30531,     0.30631,     0.30731,     0.30831,     0.30931,     0.31031,     0.31131,\n",
       "           0.31231,     0.31331,     0.31431,     0.31532,     0.31632,     0.31732,     0.31832,     0.31932,     0.32032,     0.32132,     0.32232,     0.32332,     0.32432,     0.32533,     0.32633,     0.32733,     0.32833,     0.32933,     0.33033,     0.33133,     0.33233,     0.33333,     0.33433,     0.33534,\n",
       "           0.33634,     0.33734,     0.33834,     0.33934,     0.34034,     0.34134,     0.34234,     0.34334,     0.34434,     0.34535,     0.34635,     0.34735,     0.34835,     0.34935,     0.35035,     0.35135,     0.35235,     0.35335,     0.35435,     0.35536,     0.35636,     0.35736,     0.35836,     0.35936,\n",
       "           0.36036,     0.36136,     0.36236,     0.36336,     0.36436,     0.36537,     0.36637,     0.36737,     0.36837,     0.36937,     0.37037,     0.37137,     0.37237,     0.37337,     0.37437,     0.37538,     0.37638,     0.37738,     0.37838,     0.37938,     0.38038,     0.38138,     0.38238,     0.38338,\n",
       "           0.38438,     0.38539,     0.38639,     0.38739,     0.38839,     0.38939,     0.39039,     0.39139,     0.39239,     0.39339,     0.39439,      0.3954,      0.3964,      0.3974,      0.3984,      0.3994,      0.4004,      0.4014,      0.4024,      0.4034,      0.4044,     0.40541,     0.40641,     0.40741,\n",
       "           0.40841,     0.40941,     0.41041,     0.41141,     0.41241,     0.41341,     0.41441,     0.41542,     0.41642,     0.41742,     0.41842,     0.41942,     0.42042,     0.42142,     0.42242,     0.42342,     0.42442,     0.42543,     0.42643,     0.42743,     0.42843,     0.42943,     0.43043,     0.43143,\n",
       "           0.43243,     0.43343,     0.43443,     0.43544,     0.43644,     0.43744,     0.43844,     0.43944,     0.44044,     0.44144,     0.44244,     0.44344,     0.44444,     0.44545,     0.44645,     0.44745,     0.44845,     0.44945,     0.45045,     0.45145,     0.45245,     0.45345,     0.45445,     0.45546,\n",
       "           0.45646,     0.45746,     0.45846,     0.45946,     0.46046,     0.46146,     0.46246,     0.46346,     0.46446,     0.46547,     0.46647,     0.46747,     0.46847,     0.46947,     0.47047,     0.47147,     0.47247,     0.47347,     0.47447,     0.47548,     0.47648,     0.47748,     0.47848,     0.47948,\n",
       "           0.48048,     0.48148,     0.48248,     0.48348,     0.48448,     0.48549,     0.48649,     0.48749,     0.48849,     0.48949,     0.49049,     0.49149,     0.49249,     0.49349,     0.49449,      0.4955,      0.4965,      0.4975,      0.4985,      0.4995,      0.5005,      0.5015,      0.5025,      0.5035,\n",
       "            0.5045,     0.50551,     0.50651,     0.50751,     0.50851,     0.50951,     0.51051,     0.51151,     0.51251,     0.51351,     0.51451,     0.51552,     0.51652,     0.51752,     0.51852,     0.51952,     0.52052,     0.52152,     0.52252,     0.52352,     0.52452,     0.52553,     0.52653,     0.52753,\n",
       "           0.52853,     0.52953,     0.53053,     0.53153,     0.53253,     0.53353,     0.53453,     0.53554,     0.53654,     0.53754,     0.53854,     0.53954,     0.54054,     0.54154,     0.54254,     0.54354,     0.54454,     0.54555,     0.54655,     0.54755,     0.54855,     0.54955,     0.55055,     0.55155,\n",
       "           0.55255,     0.55355,     0.55455,     0.55556,     0.55656,     0.55756,     0.55856,     0.55956,     0.56056,     0.56156,     0.56256,     0.56356,     0.56456,     0.56557,     0.56657,     0.56757,     0.56857,     0.56957,     0.57057,     0.57157,     0.57257,     0.57357,     0.57457,     0.57558,\n",
       "           0.57658,     0.57758,     0.57858,     0.57958,     0.58058,     0.58158,     0.58258,     0.58358,     0.58458,     0.58559,     0.58659,     0.58759,     0.58859,     0.58959,     0.59059,     0.59159,     0.59259,     0.59359,     0.59459,      0.5956,      0.5966,      0.5976,      0.5986,      0.5996,\n",
       "            0.6006,      0.6016,      0.6026,      0.6036,      0.6046,     0.60561,     0.60661,     0.60761,     0.60861,     0.60961,     0.61061,     0.61161,     0.61261,     0.61361,     0.61461,     0.61562,     0.61662,     0.61762,     0.61862,     0.61962,     0.62062,     0.62162,     0.62262,     0.62362,\n",
       "           0.62462,     0.62563,     0.62663,     0.62763,     0.62863,     0.62963,     0.63063,     0.63163,     0.63263,     0.63363,     0.63463,     0.63564,     0.63664,     0.63764,     0.63864,     0.63964,     0.64064,     0.64164,     0.64264,     0.64364,     0.64464,     0.64565,     0.64665,     0.64765,\n",
       "           0.64865,     0.64965,     0.65065,     0.65165,     0.65265,     0.65365,     0.65465,     0.65566,     0.65666,     0.65766,     0.65866,     0.65966,     0.66066,     0.66166,     0.66266,     0.66366,     0.66466,     0.66567,     0.66667,     0.66767,     0.66867,     0.66967,     0.67067,     0.67167,\n",
       "           0.67267,     0.67367,     0.67467,     0.67568,     0.67668,     0.67768,     0.67868,     0.67968,     0.68068,     0.68168,     0.68268,     0.68368,     0.68468,     0.68569,     0.68669,     0.68769,     0.68869,     0.68969,     0.69069,     0.69169,     0.69269,     0.69369,     0.69469,      0.6957,\n",
       "            0.6967,      0.6977,      0.6987,      0.6997,      0.7007,      0.7017,      0.7027,      0.7037,      0.7047,     0.70571,     0.70671,     0.70771,     0.70871,     0.70971,     0.71071,     0.71171,     0.71271,     0.71371,     0.71471,     0.71572,     0.71672,     0.71772,     0.71872,     0.71972,\n",
       "           0.72072,     0.72172,     0.72272,     0.72372,     0.72472,     0.72573,     0.72673,     0.72773,     0.72873,     0.72973,     0.73073,     0.73173,     0.73273,     0.73373,     0.73473,     0.73574,     0.73674,     0.73774,     0.73874,     0.73974,     0.74074,     0.74174,     0.74274,     0.74374,\n",
       "           0.74474,     0.74575,     0.74675,     0.74775,     0.74875,     0.74975,     0.75075,     0.75175,     0.75275,     0.75375,     0.75475,     0.75576,     0.75676,     0.75776,     0.75876,     0.75976,     0.76076,     0.76176,     0.76276,     0.76376,     0.76476,     0.76577,     0.76677,     0.76777,\n",
       "           0.76877,     0.76977,     0.77077,     0.77177,     0.77277,     0.77377,     0.77477,     0.77578,     0.77678,     0.77778,     0.77878,     0.77978,     0.78078,     0.78178,     0.78278,     0.78378,     0.78478,     0.78579,     0.78679,     0.78779,     0.78879,     0.78979,     0.79079,     0.79179,\n",
       "           0.79279,     0.79379,     0.79479,      0.7958,      0.7968,      0.7978,      0.7988,      0.7998,      0.8008,      0.8018,      0.8028,      0.8038,      0.8048,     0.80581,     0.80681,     0.80781,     0.80881,     0.80981,     0.81081,     0.81181,     0.81281,     0.81381,     0.81481,     0.81582,\n",
       "           0.81682,     0.81782,     0.81882,     0.81982,     0.82082,     0.82182,     0.82282,     0.82382,     0.82482,     0.82583,     0.82683,     0.82783,     0.82883,     0.82983,     0.83083,     0.83183,     0.83283,     0.83383,     0.83483,     0.83584,     0.83684,     0.83784,     0.83884,     0.83984,\n",
       "           0.84084,     0.84184,     0.84284,     0.84384,     0.84484,     0.84585,     0.84685,     0.84785,     0.84885,     0.84985,     0.85085,     0.85185,     0.85285,     0.85385,     0.85485,     0.85586,     0.85686,     0.85786,     0.85886,     0.85986,     0.86086,     0.86186,     0.86286,     0.86386,\n",
       "           0.86486,     0.86587,     0.86687,     0.86787,     0.86887,     0.86987,     0.87087,     0.87187,     0.87287,     0.87387,     0.87487,     0.87588,     0.87688,     0.87788,     0.87888,     0.87988,     0.88088,     0.88188,     0.88288,     0.88388,     0.88488,     0.88589,     0.88689,     0.88789,\n",
       "           0.88889,     0.88989,     0.89089,     0.89189,     0.89289,     0.89389,     0.89489,      0.8959,      0.8969,      0.8979,      0.8989,      0.8999,      0.9009,      0.9019,      0.9029,      0.9039,      0.9049,     0.90591,     0.90691,     0.90791,     0.90891,     0.90991,     0.91091,     0.91191,\n",
       "           0.91291,     0.91391,     0.91491,     0.91592,     0.91692,     0.91792,     0.91892,     0.91992,     0.92092,     0.92192,     0.92292,     0.92392,     0.92492,     0.92593,     0.92693,     0.92793,     0.92893,     0.92993,     0.93093,     0.93193,     0.93293,     0.93393,     0.93493,     0.93594,\n",
       "           0.93694,     0.93794,     0.93894,     0.93994,     0.94094,     0.94194,     0.94294,     0.94394,     0.94494,     0.94595,     0.94695,     0.94795,     0.94895,     0.94995,     0.95095,     0.95195,     0.95295,     0.95395,     0.95495,     0.95596,     0.95696,     0.95796,     0.95896,     0.95996,\n",
       "           0.96096,     0.96196,     0.96296,     0.96396,     0.96496,     0.96597,     0.96697,     0.96797,     0.96897,     0.96997,     0.97097,     0.97197,     0.97297,     0.97397,     0.97497,     0.97598,     0.97698,     0.97798,     0.97898,     0.97998,     0.98098,     0.98198,     0.98298,     0.98398,\n",
       "           0.98498,     0.98599,     0.98699,     0.98799,     0.98899,     0.98999,     0.99099,     0.99199,     0.99299,     0.99399,     0.99499,       0.996,       0.997,       0.998,       0.999,           1]), array([[    0.52276,     0.52276,     0.62299,      0.6694,     0.70066,     0.71824,     0.73464,     0.75364,     0.76645,     0.77207,     0.77562,     0.78177,     0.79159,     0.79624,     0.80101,      0.8116,      0.8166,     0.81965,     0.82123,     0.82323,     0.82198,      0.8229,     0.82432,\n",
       "            0.82606,     0.83018,      0.8358,     0.83783,        0.84,     0.84185,      0.8444,     0.84487,     0.84534,     0.84581,     0.84627,      0.8467,     0.84713,     0.84756,     0.84798,     0.84839,      0.8488,     0.84921,     0.84962,     0.85062,     0.85188,      0.8528,     0.85361,\n",
       "             0.8542,     0.85478,     0.85623,     0.85806,     0.85921,     0.86121,     0.86264,     0.86389,     0.86668,     0.86727,     0.86787,     0.86845,     0.86887,     0.86928,      0.8697,     0.87012,     0.87062,     0.87121,      0.8718,     0.87269,     0.87438,     0.87563,      0.8801,\n",
       "            0.88082,     0.88154,     0.88253,     0.88389,     0.88637,     0.88922,     0.88741,     0.88864,     0.88947,     0.88966,     0.88985,     0.89004,     0.89023,     0.89042,      0.8906,     0.89079,     0.89098,     0.89117,     0.89136,     0.89476,     0.89513,     0.89472,     0.89431,\n",
       "            0.89389,     0.89348,     0.89307,      0.8932,     0.89358,     0.89396,     0.89434,     0.89472,     0.89517,     0.89579,     0.89641,     0.89702,     0.89866,     0.90059,      0.9036,     0.90424,     0.90488,     0.90536,     0.90551,     0.90565,      0.9058,     0.90594,     0.90609,\n",
       "            0.90624,     0.90638,     0.90653,     0.90667,     0.90682,     0.90697,     0.90711,     0.90726,      0.9074,     0.90759,     0.90778,     0.90797,     0.90816,     0.90835,     0.90854,     0.90873,     0.90892,     0.90911,      0.9093,     0.90949,     0.90966,     0.90983,        0.91,\n",
       "            0.91017,     0.91034,     0.91051,     0.91068,     0.91085,     0.91102,     0.91118,     0.91135,     0.91152,     0.91174,     0.91205,     0.91235,     0.91266,     0.91296,     0.91326,     0.91357,     0.91393,     0.91438,     0.91482,     0.91527,     0.91571,     0.91536,      0.9145,\n",
       "            0.91364,     0.91531,      0.9148,     0.91429,     0.91379,     0.91328,     0.91306,     0.91343,      0.9138,     0.91417,     0.91454,     0.91491,     0.91517,     0.91533,     0.91549,     0.91565,     0.91581,     0.91597,     0.91613,      0.9163,     0.91646,     0.91662,     0.91678,\n",
       "            0.91694,      0.9171,     0.91726,     0.91694,     0.91662,     0.91631,     0.91599,     0.91567,     0.91535,     0.91503,     0.91471,     0.91509,     0.91552,     0.91594,     0.91636,     0.91678,     0.91742,      0.9181,     0.91879,     0.91934,     0.91981,     0.92029,     0.92076,\n",
       "            0.92123,     0.92095,     0.92065,     0.92034,     0.92004,     0.91974,     0.91944,     0.91913,     0.91883,     0.91936,     0.92091,      0.9216,     0.92228,     0.92297,      0.9248,     0.92543,     0.92561,     0.92578,     0.92595,     0.92613,      0.9263,     0.92647,     0.92665,\n",
       "            0.92682,       0.927,     0.92717,     0.92734,     0.92752,     0.92784,     0.92819,     0.92853,     0.92888,     0.92922,     0.92957,     0.93086,     0.93232,     0.93279,     0.93327,     0.93374,     0.93422,     0.93445,     0.93462,     0.93479,     0.93496,     0.93513,      0.9353,\n",
       "            0.93547,     0.93565,     0.93582,     0.93599,     0.93616,     0.93633,      0.9365,     0.93678,     0.93717,     0.93756,     0.93794,     0.93833,     0.93871,     0.93902,     0.93926,     0.93951,     0.93976,        0.94,     0.94025,     0.94049,     0.94074,     0.94098,     0.94103,\n",
       "            0.94033,     0.93964,     0.93895,     0.93886,     0.93947,     0.94008,     0.94068,     0.94114,     0.94151,     0.94188,     0.94226,     0.94263,       0.943,     0.94361,     0.94449,     0.94538,     0.94426,     0.94289,     0.94265,     0.94241,     0.94217,     0.94193,      0.9417,\n",
       "            0.94146,     0.94122,     0.94098,     0.94074,      0.9405,      0.9402,      0.9396,       0.939,      0.9384,     0.93779,     0.93745,     0.93719,     0.93692,     0.93666,      0.9364,     0.93613,     0.93587,      0.9356,     0.93534,     0.93507,     0.93673,     0.93768,     0.93813,\n",
       "            0.93859,     0.93904,     0.93949,     0.93993,     0.94035,     0.94078,      0.9412,     0.94162,     0.94204,     0.94223,      0.9424,     0.94257,     0.94275,     0.94292,     0.94309,     0.94327,     0.94344,     0.94361,     0.94378,     0.94396,     0.94413,      0.9443,     0.94446,\n",
       "            0.94457,     0.94468,     0.94479,      0.9449,     0.94501,     0.94512,     0.94523,     0.94534,     0.94545,     0.94556,     0.94567,     0.94578,     0.94589,       0.946,     0.94611,     0.94622,     0.94633,     0.94644,     0.94655,     0.94666,     0.94677,     0.94728,     0.94851,\n",
       "            0.94919,     0.94905,     0.94892,     0.94879,     0.94866,     0.94853,      0.9484,     0.94826,     0.94813,       0.948,     0.94787,     0.94774,     0.94761,     0.94747,     0.94734,     0.94721,     0.94708,     0.94695,     0.94681,     0.94668,     0.94661,     0.94701,     0.94741,\n",
       "            0.94782,     0.94822,     0.94862,     0.94901,     0.94926,     0.94951,     0.94976,        0.95,     0.95025,      0.9505,     0.95075,       0.951,     0.95125,     0.95138,     0.95132,     0.95125,     0.95119,     0.95112,     0.95106,     0.95099,     0.95092,     0.95086,     0.95079,\n",
       "            0.95073,     0.95066,      0.9506,     0.95053,     0.95047,      0.9504,     0.95034,     0.95027,      0.9502,     0.95014,     0.95007,     0.95001,     0.94994,     0.94988,     0.94981,     0.94975,     0.94968,     0.94961,     0.94955,     0.94948,     0.94942,     0.94935,     0.94929,\n",
       "            0.94922,     0.94916,     0.94909,     0.94902,     0.94896,     0.94889,     0.94883,     0.94876,     0.94898,     0.94976,     0.95055,     0.95102,     0.95038,     0.94974,      0.9491,     0.94846,     0.94793,      0.9474,     0.94687,     0.94634,     0.94582,     0.94566,     0.94556,\n",
       "            0.94547,     0.94538,     0.94528,     0.94519,      0.9451,       0.945,     0.94491,     0.94482,     0.94472,     0.94463,     0.94454,     0.94444,     0.94435,     0.94425,     0.94416,     0.94407,     0.94397,     0.94388,     0.94379,     0.94369,      0.9436,      0.9435,     0.94341,\n",
       "            0.94332,     0.94322,     0.94313,     0.94304,     0.94266,     0.94215,     0.94163,     0.94111,      0.9406,      0.9402,     0.94003,     0.93986,     0.93969,     0.93952,     0.93934,     0.93917,       0.939,     0.93883,     0.93866,     0.93848,     0.93831,     0.93814,     0.93797,\n",
       "             0.9378,     0.93762,     0.93754,     0.93769,     0.93784,       0.938,     0.93815,      0.9383,     0.93845,      0.9386,     0.93875,      0.9389,     0.93905,      0.9392,     0.93935,      0.9395,     0.93965,      0.9398,     0.93994,     0.93987,     0.93979,     0.93971,     0.93964,\n",
       "            0.93956,     0.93948,     0.93941,     0.93933,     0.93926,     0.93918,      0.9391,     0.93903,     0.93895,     0.93887,      0.9388,     0.93872,     0.93864,     0.93856,     0.93849,     0.93841,     0.93833,     0.93826,     0.93818,      0.9381,     0.93803,     0.93795,     0.93787,\n",
       "             0.9378,     0.93772,     0.93764,     0.93757,     0.93749,     0.93741,     0.93734,     0.93726,     0.93718,     0.93675,     0.93627,     0.93579,     0.93531,     0.93483,     0.93441,     0.93483,     0.93524,     0.93565,     0.93606,     0.93647,     0.93678,     0.93611,     0.93543,\n",
       "            0.93476,     0.93408,      0.9332,      0.9323,     0.93139,     0.93116,     0.93108,     0.93101,     0.93093,     0.93085,     0.93078,      0.9307,     0.93063,     0.93055,     0.93048,      0.9304,     0.93033,     0.93025,     0.93018,      0.9301,     0.93002,     0.92995,     0.92987,\n",
       "             0.9298,     0.92972,     0.92965,     0.92957,     0.92949,     0.92942,     0.92934,     0.92927,     0.92919,     0.92912,     0.92904,     0.92897,     0.92889,     0.92881,     0.92874,     0.92866,     0.92859,     0.92851,     0.92843,     0.92834,      0.9282,     0.92805,     0.92791,\n",
       "            0.92777,     0.92763,     0.92748,     0.92734,      0.9272,     0.92706,     0.92691,     0.92677,     0.92663,     0.92649,     0.92634,      0.9262,     0.92606,     0.92591,     0.92577,     0.92563,     0.92285,     0.92249,     0.92231,     0.92213,     0.92195,     0.92177,     0.92159,\n",
       "            0.92141,     0.92123,     0.92105,     0.92087,     0.92069,     0.92051,     0.92033,     0.92015,     0.91997,     0.91979,     0.91908,     0.91836,     0.91763,      0.9169,     0.91681,     0.91674,     0.91666,     0.91659,     0.91651,     0.91643,     0.91636,     0.91628,      0.9162,\n",
       "            0.91613,     0.91605,     0.91597,      0.9159,     0.91582,     0.91575,     0.91567,     0.91559,     0.91552,     0.91544,     0.91536,     0.91529,     0.91521,     0.91513,     0.91506,     0.91498,      0.9149,     0.91483,     0.91475,     0.91467,      0.9146,     0.91452,     0.91444,\n",
       "            0.91437,     0.91429,     0.91421,     0.91414,     0.91406,     0.91398,     0.91232,     0.91096,     0.91064,     0.91032,     0.91001,     0.90969,     0.90937,     0.90905,     0.90874,     0.90842,     0.90807,     0.90632,     0.90508,     0.90489,     0.90469,     0.90449,     0.90429,\n",
       "             0.9041,      0.9039,      0.9037,      0.9035,      0.9033,     0.90311,     0.90291,     0.90271,     0.90251,     0.90231,     0.90198,     0.90134,      0.9007,     0.90006,     0.89942,     0.89888,      0.8984,     0.89792,     0.89744,     0.89696,     0.89647,     0.89584,     0.89498,\n",
       "            0.89412,     0.89325,      0.8923,     0.89133,     0.89036,     0.88959,     0.88888,     0.88817,     0.88746,     0.88654,     0.88533,     0.88412,     0.88241,     0.88082,     0.88037,     0.87992,     0.87947,     0.87902,     0.87857,     0.87812,     0.87758,     0.87681,     0.87603,\n",
       "            0.87525,     0.87432,     0.87289,     0.87146,     0.87006,     0.86865,     0.86799,     0.86753,     0.86708,     0.86662,     0.86617,     0.86571,     0.86525,     0.86191,     0.86141,      0.8609,      0.8604,      0.8599,      0.8594,      0.8589,     0.85602,     0.85465,     0.85364,\n",
       "            0.85263,     0.85037,     0.84799,      0.8461,     0.84513,      0.8444,     0.84366,     0.84293,     0.84211,     0.84109,     0.84006,       0.839,     0.83716,     0.83506,     0.83233,     0.83196,     0.83158,     0.83121,     0.83083,     0.83045,     0.83008,      0.8297,     0.82932,\n",
       "            0.82863,     0.82537,      0.8225,     0.81982,     0.81823,      0.8174,     0.81657,     0.81573,     0.81493,     0.81418,     0.81342,     0.81267,     0.81191,     0.81007,     0.80793,     0.80565,     0.80275,     0.79464,      0.7895,     0.78527,     0.78298,     0.78202,     0.78106,\n",
       "            0.78009,     0.77577,     0.77334,     0.76744,     0.76529,     0.76324,     0.76125,     0.75942,     0.75765,     0.75509,     0.74923,     0.74849,     0.74775,     0.74701,     0.74627,     0.74552,     0.74334,     0.74042,     0.73722,     0.73578,     0.73434,     0.73333,     0.73285,\n",
       "            0.73237,     0.73188,      0.7314,     0.73092,     0.73044,     0.72995,     0.72904,      0.7262,     0.72097,     0.72003,     0.71909,     0.71815,     0.71716,     0.71602,     0.71488,     0.71373,     0.70498,     0.70397,     0.70296,     0.70195,     0.70091,     0.69863,     0.69533,\n",
       "             0.6916,     0.69012,     0.68863,     0.67886,      0.6748,     0.67248,     0.66795,     0.66215,     0.65763,     0.65587,     0.65411,     0.64281,     0.63945,     0.63797,     0.63648,     0.63471,     0.62912,     0.62294,      0.6204,     0.61888,     0.61735,     0.61517,     0.61203,\n",
       "            0.61071,      0.6096,      0.6085,      0.6074,     0.60624,     0.60504,     0.60383,     0.60263,      0.5994,     0.58791,     0.56979,     0.55882,     0.54813,     0.54471,     0.54231,     0.53278,     0.52653,     0.51659,     0.50779,     0.50568,     0.50339,     0.49852,     0.49364,\n",
       "            0.47846,     0.45721,     0.44186,     0.43216,     0.42884,     0.41368,     0.40793,      0.3976,     0.39099,     0.37786,     0.36993,     0.36689,     0.35607,     0.32497,     0.29493,     0.26592,     0.26247,       0.259,     0.25364,     0.23334,     0.22593,     0.21798,     0.20759,\n",
       "             0.1956,     0.16275,     0.14661,     0.14331,        0.14,     0.13646,     0.13267,     0.12763,     0.11866,     0.11169,     0.10642,    0.091619,    0.084553,    0.081144,    0.077722,    0.075329,    0.073772,    0.072213,    0.070651,    0.069086,    0.067519,    0.061276,    0.045553,\n",
       "           0.036724,    0.031059,    0.026641,    0.022793,    0.014428,           0,           0,           0,           0,           0,           0,           0,           0,           0,           0,           0,           0,           0,           0,           0,           0,           0,           0,\n",
       "                  0,           0,           0,           0,           0,           0,           0,           0,           0,           0,           0]]), 'Confidence', 'F1'], [array([          0,    0.001001,    0.002002,    0.003003,    0.004004,    0.005005,    0.006006,    0.007007,    0.008008,    0.009009,     0.01001,    0.011011,    0.012012,    0.013013,    0.014014,    0.015015,    0.016016,    0.017017,    0.018018,    0.019019,     0.02002,    0.021021,    0.022022,    0.023023,\n",
       "          0.024024,    0.025025,    0.026026,    0.027027,    0.028028,    0.029029,     0.03003,    0.031031,    0.032032,    0.033033,    0.034034,    0.035035,    0.036036,    0.037037,    0.038038,    0.039039,     0.04004,    0.041041,    0.042042,    0.043043,    0.044044,    0.045045,    0.046046,    0.047047,\n",
       "          0.048048,    0.049049,     0.05005,    0.051051,    0.052052,    0.053053,    0.054054,    0.055055,    0.056056,    0.057057,    0.058058,    0.059059,     0.06006,    0.061061,    0.062062,    0.063063,    0.064064,    0.065065,    0.066066,    0.067067,    0.068068,    0.069069,     0.07007,    0.071071,\n",
       "          0.072072,    0.073073,    0.074074,    0.075075,    0.076076,    0.077077,    0.078078,    0.079079,     0.08008,    0.081081,    0.082082,    0.083083,    0.084084,    0.085085,    0.086086,    0.087087,    0.088088,    0.089089,     0.09009,    0.091091,    0.092092,    0.093093,    0.094094,    0.095095,\n",
       "          0.096096,    0.097097,    0.098098,    0.099099,      0.1001,      0.1011,      0.1021,      0.1031,      0.1041,     0.10511,     0.10611,     0.10711,     0.10811,     0.10911,     0.11011,     0.11111,     0.11211,     0.11311,     0.11411,     0.11512,     0.11612,     0.11712,     0.11812,     0.11912,\n",
       "           0.12012,     0.12112,     0.12212,     0.12312,     0.12412,     0.12513,     0.12613,     0.12713,     0.12813,     0.12913,     0.13013,     0.13113,     0.13213,     0.13313,     0.13413,     0.13514,     0.13614,     0.13714,     0.13814,     0.13914,     0.14014,     0.14114,     0.14214,     0.14314,\n",
       "           0.14414,     0.14515,     0.14615,     0.14715,     0.14815,     0.14915,     0.15015,     0.15115,     0.15215,     0.15315,     0.15415,     0.15516,     0.15616,     0.15716,     0.15816,     0.15916,     0.16016,     0.16116,     0.16216,     0.16316,     0.16416,     0.16517,     0.16617,     0.16717,\n",
       "           0.16817,     0.16917,     0.17017,     0.17117,     0.17217,     0.17317,     0.17417,     0.17518,     0.17618,     0.17718,     0.17818,     0.17918,     0.18018,     0.18118,     0.18218,     0.18318,     0.18418,     0.18519,     0.18619,     0.18719,     0.18819,     0.18919,     0.19019,     0.19119,\n",
       "           0.19219,     0.19319,     0.19419,      0.1952,      0.1962,      0.1972,      0.1982,      0.1992,      0.2002,      0.2012,      0.2022,      0.2032,      0.2042,     0.20521,     0.20621,     0.20721,     0.20821,     0.20921,     0.21021,     0.21121,     0.21221,     0.21321,     0.21421,     0.21522,\n",
       "           0.21622,     0.21722,     0.21822,     0.21922,     0.22022,     0.22122,     0.22222,     0.22322,     0.22422,     0.22523,     0.22623,     0.22723,     0.22823,     0.22923,     0.23023,     0.23123,     0.23223,     0.23323,     0.23423,     0.23524,     0.23624,     0.23724,     0.23824,     0.23924,\n",
       "           0.24024,     0.24124,     0.24224,     0.24324,     0.24424,     0.24525,     0.24625,     0.24725,     0.24825,     0.24925,     0.25025,     0.25125,     0.25225,     0.25325,     0.25425,     0.25526,     0.25626,     0.25726,     0.25826,     0.25926,     0.26026,     0.26126,     0.26226,     0.26326,\n",
       "           0.26426,     0.26527,     0.26627,     0.26727,     0.26827,     0.26927,     0.27027,     0.27127,     0.27227,     0.27327,     0.27427,     0.27528,     0.27628,     0.27728,     0.27828,     0.27928,     0.28028,     0.28128,     0.28228,     0.28328,     0.28428,     0.28529,     0.28629,     0.28729,\n",
       "           0.28829,     0.28929,     0.29029,     0.29129,     0.29229,     0.29329,     0.29429,      0.2953,      0.2963,      0.2973,      0.2983,      0.2993,      0.3003,      0.3013,      0.3023,      0.3033,      0.3043,     0.30531,     0.30631,     0.30731,     0.30831,     0.30931,     0.31031,     0.31131,\n",
       "           0.31231,     0.31331,     0.31431,     0.31532,     0.31632,     0.31732,     0.31832,     0.31932,     0.32032,     0.32132,     0.32232,     0.32332,     0.32432,     0.32533,     0.32633,     0.32733,     0.32833,     0.32933,     0.33033,     0.33133,     0.33233,     0.33333,     0.33433,     0.33534,\n",
       "           0.33634,     0.33734,     0.33834,     0.33934,     0.34034,     0.34134,     0.34234,     0.34334,     0.34434,     0.34535,     0.34635,     0.34735,     0.34835,     0.34935,     0.35035,     0.35135,     0.35235,     0.35335,     0.35435,     0.35536,     0.35636,     0.35736,     0.35836,     0.35936,\n",
       "           0.36036,     0.36136,     0.36236,     0.36336,     0.36436,     0.36537,     0.36637,     0.36737,     0.36837,     0.36937,     0.37037,     0.37137,     0.37237,     0.37337,     0.37437,     0.37538,     0.37638,     0.37738,     0.37838,     0.37938,     0.38038,     0.38138,     0.38238,     0.38338,\n",
       "           0.38438,     0.38539,     0.38639,     0.38739,     0.38839,     0.38939,     0.39039,     0.39139,     0.39239,     0.39339,     0.39439,      0.3954,      0.3964,      0.3974,      0.3984,      0.3994,      0.4004,      0.4014,      0.4024,      0.4034,      0.4044,     0.40541,     0.40641,     0.40741,\n",
       "           0.40841,     0.40941,     0.41041,     0.41141,     0.41241,     0.41341,     0.41441,     0.41542,     0.41642,     0.41742,     0.41842,     0.41942,     0.42042,     0.42142,     0.42242,     0.42342,     0.42442,     0.42543,     0.42643,     0.42743,     0.42843,     0.42943,     0.43043,     0.43143,\n",
       "           0.43243,     0.43343,     0.43443,     0.43544,     0.43644,     0.43744,     0.43844,     0.43944,     0.44044,     0.44144,     0.44244,     0.44344,     0.44444,     0.44545,     0.44645,     0.44745,     0.44845,     0.44945,     0.45045,     0.45145,     0.45245,     0.45345,     0.45445,     0.45546,\n",
       "           0.45646,     0.45746,     0.45846,     0.45946,     0.46046,     0.46146,     0.46246,     0.46346,     0.46446,     0.46547,     0.46647,     0.46747,     0.46847,     0.46947,     0.47047,     0.47147,     0.47247,     0.47347,     0.47447,     0.47548,     0.47648,     0.47748,     0.47848,     0.47948,\n",
       "           0.48048,     0.48148,     0.48248,     0.48348,     0.48448,     0.48549,     0.48649,     0.48749,     0.48849,     0.48949,     0.49049,     0.49149,     0.49249,     0.49349,     0.49449,      0.4955,      0.4965,      0.4975,      0.4985,      0.4995,      0.5005,      0.5015,      0.5025,      0.5035,\n",
       "            0.5045,     0.50551,     0.50651,     0.50751,     0.50851,     0.50951,     0.51051,     0.51151,     0.51251,     0.51351,     0.51451,     0.51552,     0.51652,     0.51752,     0.51852,     0.51952,     0.52052,     0.52152,     0.52252,     0.52352,     0.52452,     0.52553,     0.52653,     0.52753,\n",
       "           0.52853,     0.52953,     0.53053,     0.53153,     0.53253,     0.53353,     0.53453,     0.53554,     0.53654,     0.53754,     0.53854,     0.53954,     0.54054,     0.54154,     0.54254,     0.54354,     0.54454,     0.54555,     0.54655,     0.54755,     0.54855,     0.54955,     0.55055,     0.55155,\n",
       "           0.55255,     0.55355,     0.55455,     0.55556,     0.55656,     0.55756,     0.55856,     0.55956,     0.56056,     0.56156,     0.56256,     0.56356,     0.56456,     0.56557,     0.56657,     0.56757,     0.56857,     0.56957,     0.57057,     0.57157,     0.57257,     0.57357,     0.57457,     0.57558,\n",
       "           0.57658,     0.57758,     0.57858,     0.57958,     0.58058,     0.58158,     0.58258,     0.58358,     0.58458,     0.58559,     0.58659,     0.58759,     0.58859,     0.58959,     0.59059,     0.59159,     0.59259,     0.59359,     0.59459,      0.5956,      0.5966,      0.5976,      0.5986,      0.5996,\n",
       "            0.6006,      0.6016,      0.6026,      0.6036,      0.6046,     0.60561,     0.60661,     0.60761,     0.60861,     0.60961,     0.61061,     0.61161,     0.61261,     0.61361,     0.61461,     0.61562,     0.61662,     0.61762,     0.61862,     0.61962,     0.62062,     0.62162,     0.62262,     0.62362,\n",
       "           0.62462,     0.62563,     0.62663,     0.62763,     0.62863,     0.62963,     0.63063,     0.63163,     0.63263,     0.63363,     0.63463,     0.63564,     0.63664,     0.63764,     0.63864,     0.63964,     0.64064,     0.64164,     0.64264,     0.64364,     0.64464,     0.64565,     0.64665,     0.64765,\n",
       "           0.64865,     0.64965,     0.65065,     0.65165,     0.65265,     0.65365,     0.65465,     0.65566,     0.65666,     0.65766,     0.65866,     0.65966,     0.66066,     0.66166,     0.66266,     0.66366,     0.66466,     0.66567,     0.66667,     0.66767,     0.66867,     0.66967,     0.67067,     0.67167,\n",
       "           0.67267,     0.67367,     0.67467,     0.67568,     0.67668,     0.67768,     0.67868,     0.67968,     0.68068,     0.68168,     0.68268,     0.68368,     0.68468,     0.68569,     0.68669,     0.68769,     0.68869,     0.68969,     0.69069,     0.69169,     0.69269,     0.69369,     0.69469,      0.6957,\n",
       "            0.6967,      0.6977,      0.6987,      0.6997,      0.7007,      0.7017,      0.7027,      0.7037,      0.7047,     0.70571,     0.70671,     0.70771,     0.70871,     0.70971,     0.71071,     0.71171,     0.71271,     0.71371,     0.71471,     0.71572,     0.71672,     0.71772,     0.71872,     0.71972,\n",
       "           0.72072,     0.72172,     0.72272,     0.72372,     0.72472,     0.72573,     0.72673,     0.72773,     0.72873,     0.72973,     0.73073,     0.73173,     0.73273,     0.73373,     0.73473,     0.73574,     0.73674,     0.73774,     0.73874,     0.73974,     0.74074,     0.74174,     0.74274,     0.74374,\n",
       "           0.74474,     0.74575,     0.74675,     0.74775,     0.74875,     0.74975,     0.75075,     0.75175,     0.75275,     0.75375,     0.75475,     0.75576,     0.75676,     0.75776,     0.75876,     0.75976,     0.76076,     0.76176,     0.76276,     0.76376,     0.76476,     0.76577,     0.76677,     0.76777,\n",
       "           0.76877,     0.76977,     0.77077,     0.77177,     0.77277,     0.77377,     0.77477,     0.77578,     0.77678,     0.77778,     0.77878,     0.77978,     0.78078,     0.78178,     0.78278,     0.78378,     0.78478,     0.78579,     0.78679,     0.78779,     0.78879,     0.78979,     0.79079,     0.79179,\n",
       "           0.79279,     0.79379,     0.79479,      0.7958,      0.7968,      0.7978,      0.7988,      0.7998,      0.8008,      0.8018,      0.8028,      0.8038,      0.8048,     0.80581,     0.80681,     0.80781,     0.80881,     0.80981,     0.81081,     0.81181,     0.81281,     0.81381,     0.81481,     0.81582,\n",
       "           0.81682,     0.81782,     0.81882,     0.81982,     0.82082,     0.82182,     0.82282,     0.82382,     0.82482,     0.82583,     0.82683,     0.82783,     0.82883,     0.82983,     0.83083,     0.83183,     0.83283,     0.83383,     0.83483,     0.83584,     0.83684,     0.83784,     0.83884,     0.83984,\n",
       "           0.84084,     0.84184,     0.84284,     0.84384,     0.84484,     0.84585,     0.84685,     0.84785,     0.84885,     0.84985,     0.85085,     0.85185,     0.85285,     0.85385,     0.85485,     0.85586,     0.85686,     0.85786,     0.85886,     0.85986,     0.86086,     0.86186,     0.86286,     0.86386,\n",
       "           0.86486,     0.86587,     0.86687,     0.86787,     0.86887,     0.86987,     0.87087,     0.87187,     0.87287,     0.87387,     0.87487,     0.87588,     0.87688,     0.87788,     0.87888,     0.87988,     0.88088,     0.88188,     0.88288,     0.88388,     0.88488,     0.88589,     0.88689,     0.88789,\n",
       "           0.88889,     0.88989,     0.89089,     0.89189,     0.89289,     0.89389,     0.89489,      0.8959,      0.8969,      0.8979,      0.8989,      0.8999,      0.9009,      0.9019,      0.9029,      0.9039,      0.9049,     0.90591,     0.90691,     0.90791,     0.90891,     0.90991,     0.91091,     0.91191,\n",
       "           0.91291,     0.91391,     0.91491,     0.91592,     0.91692,     0.91792,     0.91892,     0.91992,     0.92092,     0.92192,     0.92292,     0.92392,     0.92492,     0.92593,     0.92693,     0.92793,     0.92893,     0.92993,     0.93093,     0.93193,     0.93293,     0.93393,     0.93493,     0.93594,\n",
       "           0.93694,     0.93794,     0.93894,     0.93994,     0.94094,     0.94194,     0.94294,     0.94394,     0.94494,     0.94595,     0.94695,     0.94795,     0.94895,     0.94995,     0.95095,     0.95195,     0.95295,     0.95395,     0.95495,     0.95596,     0.95696,     0.95796,     0.95896,     0.95996,\n",
       "           0.96096,     0.96196,     0.96296,     0.96396,     0.96496,     0.96597,     0.96697,     0.96797,     0.96897,     0.96997,     0.97097,     0.97197,     0.97297,     0.97397,     0.97497,     0.97598,     0.97698,     0.97798,     0.97898,     0.97998,     0.98098,     0.98198,     0.98298,     0.98398,\n",
       "           0.98498,     0.98599,     0.98699,     0.98799,     0.98899,     0.98999,     0.99099,     0.99199,     0.99299,     0.99399,     0.99499,       0.996,       0.997,       0.998,       0.999,           1]), array([[     0.3545,      0.3545,     0.45448,     0.50563,     0.54217,     0.56352,      0.5857,     0.61024,     0.62721,     0.63478,     0.63959,       0.648,      0.6616,     0.66812,     0.67487,     0.69004,     0.69729,     0.70176,     0.70408,     0.70785,     0.70774,      0.7091,     0.71121,\n",
       "            0.71382,     0.71999,     0.72848,     0.73158,     0.73489,     0.73773,     0.74164,     0.74237,      0.7431,     0.74383,     0.74454,      0.7452,     0.74587,     0.74653,      0.7472,     0.74783,     0.74847,      0.7491,     0.74974,      0.7513,     0.75328,      0.7547,     0.75598,\n",
       "             0.7569,     0.75781,     0.76009,     0.76299,     0.76481,     0.76799,     0.77025,     0.77225,     0.77672,     0.77768,     0.77864,     0.77958,     0.78025,     0.78092,     0.78159,     0.78226,     0.78307,     0.78403,     0.78499,     0.78643,     0.78918,     0.79122,     0.79855,\n",
       "            0.79974,     0.80093,     0.80256,     0.80481,     0.80894,     0.81369,     0.81406,     0.81616,     0.81756,     0.81788,      0.8182,     0.81852,     0.81884,     0.81916,     0.81948,      0.8198,     0.82012,     0.82044,     0.82076,     0.82654,     0.82764,     0.82752,      0.8274,\n",
       "            0.82728,     0.82716,     0.82704,     0.82745,      0.8281,     0.82876,     0.82941,     0.83006,     0.83084,     0.83191,     0.83297,     0.83404,     0.83687,     0.84023,     0.84548,     0.84661,     0.84773,     0.84857,     0.84883,     0.84908,     0.84934,      0.8496,     0.84985,\n",
       "            0.85011,     0.85037,     0.85063,     0.85088,     0.85114,      0.8514,     0.85165,     0.85191,     0.85217,      0.8525,     0.85283,     0.85317,      0.8535,     0.85384,     0.85417,     0.85451,     0.85484,     0.85518,     0.85551,     0.85585,     0.85615,     0.85645,     0.85676,\n",
       "            0.85706,     0.85736,     0.85766,     0.85796,     0.85826,     0.85856,     0.85886,     0.85916,     0.85946,     0.85986,      0.8604,     0.86094,     0.86148,     0.86202,     0.86256,     0.86311,     0.86375,     0.86455,     0.86535,     0.86615,     0.86695,     0.86713,     0.86693,\n",
       "            0.86673,     0.87049,     0.87038,     0.87026,     0.87015,     0.87003,     0.87018,     0.87085,     0.87152,     0.87219,     0.87286,     0.87353,     0.87402,     0.87431,      0.8746,     0.87489,     0.87519,     0.87548,     0.87577,     0.87607,     0.87636,     0.87665,     0.87695,\n",
       "            0.87724,     0.87753,     0.87782,     0.87776,     0.87769,     0.87762,     0.87755,     0.87748,     0.87741,     0.87735,     0.87728,     0.87801,     0.87879,     0.87957,     0.88035,     0.88112,      0.8823,     0.88357,     0.88484,     0.88587,     0.88674,     0.88762,      0.8885,\n",
       "            0.88938,     0.88934,     0.88928,     0.88922,     0.88916,      0.8891,     0.88904,     0.88898,     0.88892,      0.8902,     0.89311,      0.8944,      0.8957,     0.89699,     0.90045,     0.90166,     0.90199,     0.90232,     0.90265,     0.90298,     0.90331,     0.90364,     0.90397,\n",
       "             0.9043,     0.90463,     0.90496,     0.90529,     0.90562,     0.90624,      0.9069,     0.90756,     0.90822,     0.90888,     0.90954,     0.91201,     0.91482,     0.91574,     0.91665,     0.91757,     0.91849,     0.91893,     0.91926,     0.91959,     0.91993,     0.92026,     0.92059,\n",
       "            0.92092,     0.92125,     0.92159,     0.92192,     0.92225,     0.92258,     0.92291,     0.92346,     0.92421,     0.92496,     0.92572,     0.92647,     0.92722,     0.92781,     0.92829,     0.92878,     0.92926,     0.92974,     0.93022,      0.9307,     0.93118,     0.93166,     0.93202,\n",
       "            0.93193,     0.93184,     0.93175,     0.93227,     0.93347,     0.93467,     0.93587,     0.93677,     0.93751,     0.93825,     0.93899,     0.93973,     0.94048,     0.94168,     0.94345,     0.94521,     0.94541,     0.94527,     0.94524,     0.94522,      0.9452,     0.94517,     0.94515,\n",
       "            0.94512,      0.9451,     0.94507,     0.94505,     0.94502,     0.94499,     0.94493,     0.94486,      0.9448,     0.94474,      0.9447,     0.94467,     0.94465,     0.94462,     0.94459,     0.94456,     0.94454,     0.94451,     0.94448,     0.94445,     0.94798,     0.94993,     0.95086,\n",
       "            0.95179,     0.95272,     0.95366,     0.95456,     0.95543,      0.9563,     0.95718,     0.95805,     0.95893,     0.95931,     0.95967,     0.96003,     0.96039,     0.96075,     0.96111,     0.96146,     0.96182,     0.96218,     0.96254,      0.9629,     0.96326,     0.96362,     0.96395,\n",
       "            0.96418,     0.96441,     0.96464,     0.96487,      0.9651,     0.96533,     0.96556,     0.96579,     0.96602,     0.96625,     0.96647,      0.9667,     0.96693,     0.96716,     0.96739,     0.96762,     0.96785,     0.96808,     0.96831,     0.96854,     0.96876,     0.96984,     0.97242,\n",
       "            0.97396,     0.97395,     0.97394,     0.97394,     0.97393,     0.97392,     0.97392,     0.97391,      0.9739,      0.9739,     0.97389,     0.97388,     0.97387,     0.97387,     0.97386,     0.97385,     0.97385,     0.97384,     0.97383,     0.97383,     0.97391,     0.97477,     0.97562,\n",
       "            0.97648,     0.97733,     0.97819,       0.979,     0.97954,     0.98007,      0.9806,     0.98113,     0.98166,     0.98219,     0.98273,     0.98326,     0.98379,     0.98413,     0.98412,     0.98412,     0.98412,     0.98412,     0.98412,     0.98411,     0.98411,     0.98411,     0.98411,\n",
       "            0.98411,      0.9841,      0.9841,      0.9841,      0.9841,      0.9841,     0.98409,     0.98409,     0.98409,     0.98409,     0.98409,     0.98408,     0.98408,     0.98408,     0.98408,     0.98407,     0.98407,     0.98407,     0.98407,     0.98407,     0.98406,     0.98406,     0.98406,\n",
       "            0.98406,     0.98406,     0.98405,     0.98405,     0.98405,     0.98405,     0.98405,     0.98404,     0.98461,      0.9863,     0.98799,      0.9893,     0.98929,     0.98927,     0.98926,     0.98925,     0.98924,     0.98922,     0.98921,      0.9892,     0.98919,     0.98919,     0.98919,\n",
       "            0.98918,     0.98918,     0.98918,     0.98918,     0.98918,     0.98917,     0.98917,     0.98917,     0.98917,     0.98917,     0.98916,     0.98916,     0.98916,     0.98916,     0.98916,     0.98915,     0.98915,     0.98915,     0.98915,     0.98915,     0.98914,     0.98914,     0.98914,\n",
       "            0.98914,     0.98914,     0.98913,     0.98913,     0.98912,     0.98911,      0.9891,     0.98909,     0.98908,     0.98907,     0.98907,     0.98906,     0.98906,     0.98905,     0.98905,     0.98905,     0.98904,     0.98904,     0.98904,     0.98903,     0.98903,     0.98902,     0.98902,\n",
       "            0.98902,     0.98901,      0.9891,     0.98944,     0.98978,     0.99011,     0.99045,     0.99079,     0.99112,     0.99146,      0.9918,     0.99213,     0.99247,     0.99281,     0.99314,     0.99348,     0.99382,     0.99415,     0.99448,     0.99447,     0.99447,     0.99447,     0.99447,\n",
       "            0.99447,     0.99447,     0.99447,     0.99447,     0.99447,     0.99447,     0.99447,     0.99446,     0.99446,     0.99446,     0.99446,     0.99446,     0.99446,     0.99446,     0.99446,     0.99446,     0.99446,     0.99446,     0.99446,     0.99445,     0.99445,     0.99445,     0.99445,\n",
       "            0.99445,     0.99445,     0.99445,     0.99445,     0.99445,     0.99445,     0.99445,     0.99445,     0.99444,     0.99444,     0.99443,     0.99443,     0.99442,     0.99442,     0.99448,     0.99541,     0.99635,     0.99728,     0.99822,     0.99915,           1,           1,           1,\n",
       "                  1,           1,           1,           1,           1,           1,           1,           1,           1,           1,           1,           1,           1,           1,           1,           1,           1,           1,           1,           1,           1,           1,           1,\n",
       "                  1,           1,           1,           1,           1,           1,           1,           1,           1,           1,           1,           1,           1,           1,           1,           1,           1,           1,           1,           1,           1,           1,           1,\n",
       "                  1,           1,           1,           1,           1,           1,           1,           1,           1,           1,           1,           1,           1,           1,           1,           1,           1,           1,           1,           1,           1,           1,           1,\n",
       "                  1,           1,           1,           1,           1,           1,           1,           1,           1,           1,           1,           1,           1,           1,           1,           1,           1,           1,           1,           1,           1,           1,           1,\n",
       "                  1,           1,           1,           1,           1,           1,           1,           1,           1,           1,           1,           1,           1,           1,           1,           1,           1,           1,           1,           1,           1,           1,           1,\n",
       "                  1,           1,           1,           1,           1,           1,           1,           1,           1,           1,           1,           1,           1,           1,           1,           1,           1,           1,           1,           1,           1,           1,           1,\n",
       "                  1,           1,           1,           1,           1,           1,           1,           1,           1,           1,           1,           1,           1,           1,           1,           1,           1,           1,           1,           1,           1,           1,           1,\n",
       "                  1,           1,           1,           1,           1,           1,           1,           1,           1,           1,           1,           1,           1,           1,           1,           1,           1,           1,           1,           1,           1,           1,           1,\n",
       "                  1,           1,           1,           1,           1,           1,           1,           1,           1,           1,           1,           1,           1,           1,           1,           1,           1,           1,           1,           1,           1,           1,           1,\n",
       "                  1,           1,           1,           1,           1,           1,           1,           1,           1,           1,           1,           1,           1,           1,           1,           1,           1,           1,           1,           1,           1,           1,           1,\n",
       "                  1,           1,           1,           1,           1,           1,           1,           1,           1,           1,           1,           1,           1,           1,           1,           1,           1,           1,           1,           1,           1,           1,           1,\n",
       "                  1,           1,           1,           1,           1,           1,           1,           1,           1,           1,           1,           1,           1,           1,           1,           1,           1,           1,           1,           1,           1,           1,           1,\n",
       "                  1,           1,           1,           1,           1,           1,           1,           1,           1,           1,           1,           1,           1,           1,           1,           1,           1,           1,           1,           1,           1,           1,           1,\n",
       "                  1,           1,           1,           1,           1,           1,           1,           1,           1,           1,           1,           1,           1,           1,           1,           1,           1,           1,           1,           1,           1,           1,           1,\n",
       "                  1,           1,           1,           1,           1,           1,           1,           1,           1,           1,           1,           1,           1,           1,           1,           1,           1,           1,           1,           1,           1,           1,           1,\n",
       "                  1,           1,           1,           1,           1,           1,           1,           1,           1,           1,           1,           1,           1,           1,           1,           1,           1,           1,           1,           1,           1,           1,           1,\n",
       "                  1,           1,           1,           1,           1,           1,           1,           1,           1,           1,           1,           1,           1,           1,           1,           1,           1,           1,           1,           1,           1,           1,           1,\n",
       "                  1,           1,           1,           1,           1,           1,           1,           1,           1,           1,           1,           1,           1,           1,           1,           1,           1,           1,           1,           1,           1,           1,           1,\n",
       "                  1,           1,           1,           1,           1,           1,           1,           1,           1,           1,           1]]), 'Confidence', 'Precision'], [array([          0,    0.001001,    0.002002,    0.003003,    0.004004,    0.005005,    0.006006,    0.007007,    0.008008,    0.009009,     0.01001,    0.011011,    0.012012,    0.013013,    0.014014,    0.015015,    0.016016,    0.017017,    0.018018,    0.019019,     0.02002,    0.021021,    0.022022,    0.023023,\n",
       "          0.024024,    0.025025,    0.026026,    0.027027,    0.028028,    0.029029,     0.03003,    0.031031,    0.032032,    0.033033,    0.034034,    0.035035,    0.036036,    0.037037,    0.038038,    0.039039,     0.04004,    0.041041,    0.042042,    0.043043,    0.044044,    0.045045,    0.046046,    0.047047,\n",
       "          0.048048,    0.049049,     0.05005,    0.051051,    0.052052,    0.053053,    0.054054,    0.055055,    0.056056,    0.057057,    0.058058,    0.059059,     0.06006,    0.061061,    0.062062,    0.063063,    0.064064,    0.065065,    0.066066,    0.067067,    0.068068,    0.069069,     0.07007,    0.071071,\n",
       "          0.072072,    0.073073,    0.074074,    0.075075,    0.076076,    0.077077,    0.078078,    0.079079,     0.08008,    0.081081,    0.082082,    0.083083,    0.084084,    0.085085,    0.086086,    0.087087,    0.088088,    0.089089,     0.09009,    0.091091,    0.092092,    0.093093,    0.094094,    0.095095,\n",
       "          0.096096,    0.097097,    0.098098,    0.099099,      0.1001,      0.1011,      0.1021,      0.1031,      0.1041,     0.10511,     0.10611,     0.10711,     0.10811,     0.10911,     0.11011,     0.11111,     0.11211,     0.11311,     0.11411,     0.11512,     0.11612,     0.11712,     0.11812,     0.11912,\n",
       "           0.12012,     0.12112,     0.12212,     0.12312,     0.12412,     0.12513,     0.12613,     0.12713,     0.12813,     0.12913,     0.13013,     0.13113,     0.13213,     0.13313,     0.13413,     0.13514,     0.13614,     0.13714,     0.13814,     0.13914,     0.14014,     0.14114,     0.14214,     0.14314,\n",
       "           0.14414,     0.14515,     0.14615,     0.14715,     0.14815,     0.14915,     0.15015,     0.15115,     0.15215,     0.15315,     0.15415,     0.15516,     0.15616,     0.15716,     0.15816,     0.15916,     0.16016,     0.16116,     0.16216,     0.16316,     0.16416,     0.16517,     0.16617,     0.16717,\n",
       "           0.16817,     0.16917,     0.17017,     0.17117,     0.17217,     0.17317,     0.17417,     0.17518,     0.17618,     0.17718,     0.17818,     0.17918,     0.18018,     0.18118,     0.18218,     0.18318,     0.18418,     0.18519,     0.18619,     0.18719,     0.18819,     0.18919,     0.19019,     0.19119,\n",
       "           0.19219,     0.19319,     0.19419,      0.1952,      0.1962,      0.1972,      0.1982,      0.1992,      0.2002,      0.2012,      0.2022,      0.2032,      0.2042,     0.20521,     0.20621,     0.20721,     0.20821,     0.20921,     0.21021,     0.21121,     0.21221,     0.21321,     0.21421,     0.21522,\n",
       "           0.21622,     0.21722,     0.21822,     0.21922,     0.22022,     0.22122,     0.22222,     0.22322,     0.22422,     0.22523,     0.22623,     0.22723,     0.22823,     0.22923,     0.23023,     0.23123,     0.23223,     0.23323,     0.23423,     0.23524,     0.23624,     0.23724,     0.23824,     0.23924,\n",
       "           0.24024,     0.24124,     0.24224,     0.24324,     0.24424,     0.24525,     0.24625,     0.24725,     0.24825,     0.24925,     0.25025,     0.25125,     0.25225,     0.25325,     0.25425,     0.25526,     0.25626,     0.25726,     0.25826,     0.25926,     0.26026,     0.26126,     0.26226,     0.26326,\n",
       "           0.26426,     0.26527,     0.26627,     0.26727,     0.26827,     0.26927,     0.27027,     0.27127,     0.27227,     0.27327,     0.27427,     0.27528,     0.27628,     0.27728,     0.27828,     0.27928,     0.28028,     0.28128,     0.28228,     0.28328,     0.28428,     0.28529,     0.28629,     0.28729,\n",
       "           0.28829,     0.28929,     0.29029,     0.29129,     0.29229,     0.29329,     0.29429,      0.2953,      0.2963,      0.2973,      0.2983,      0.2993,      0.3003,      0.3013,      0.3023,      0.3033,      0.3043,     0.30531,     0.30631,     0.30731,     0.30831,     0.30931,     0.31031,     0.31131,\n",
       "           0.31231,     0.31331,     0.31431,     0.31532,     0.31632,     0.31732,     0.31832,     0.31932,     0.32032,     0.32132,     0.32232,     0.32332,     0.32432,     0.32533,     0.32633,     0.32733,     0.32833,     0.32933,     0.33033,     0.33133,     0.33233,     0.33333,     0.33433,     0.33534,\n",
       "           0.33634,     0.33734,     0.33834,     0.33934,     0.34034,     0.34134,     0.34234,     0.34334,     0.34434,     0.34535,     0.34635,     0.34735,     0.34835,     0.34935,     0.35035,     0.35135,     0.35235,     0.35335,     0.35435,     0.35536,     0.35636,     0.35736,     0.35836,     0.35936,\n",
       "           0.36036,     0.36136,     0.36236,     0.36336,     0.36436,     0.36537,     0.36637,     0.36737,     0.36837,     0.36937,     0.37037,     0.37137,     0.37237,     0.37337,     0.37437,     0.37538,     0.37638,     0.37738,     0.37838,     0.37938,     0.38038,     0.38138,     0.38238,     0.38338,\n",
       "           0.38438,     0.38539,     0.38639,     0.38739,     0.38839,     0.38939,     0.39039,     0.39139,     0.39239,     0.39339,     0.39439,      0.3954,      0.3964,      0.3974,      0.3984,      0.3994,      0.4004,      0.4014,      0.4024,      0.4034,      0.4044,     0.40541,     0.40641,     0.40741,\n",
       "           0.40841,     0.40941,     0.41041,     0.41141,     0.41241,     0.41341,     0.41441,     0.41542,     0.41642,     0.41742,     0.41842,     0.41942,     0.42042,     0.42142,     0.42242,     0.42342,     0.42442,     0.42543,     0.42643,     0.42743,     0.42843,     0.42943,     0.43043,     0.43143,\n",
       "           0.43243,     0.43343,     0.43443,     0.43544,     0.43644,     0.43744,     0.43844,     0.43944,     0.44044,     0.44144,     0.44244,     0.44344,     0.44444,     0.44545,     0.44645,     0.44745,     0.44845,     0.44945,     0.45045,     0.45145,     0.45245,     0.45345,     0.45445,     0.45546,\n",
       "           0.45646,     0.45746,     0.45846,     0.45946,     0.46046,     0.46146,     0.46246,     0.46346,     0.46446,     0.46547,     0.46647,     0.46747,     0.46847,     0.46947,     0.47047,     0.47147,     0.47247,     0.47347,     0.47447,     0.47548,     0.47648,     0.47748,     0.47848,     0.47948,\n",
       "           0.48048,     0.48148,     0.48248,     0.48348,     0.48448,     0.48549,     0.48649,     0.48749,     0.48849,     0.48949,     0.49049,     0.49149,     0.49249,     0.49349,     0.49449,      0.4955,      0.4965,      0.4975,      0.4985,      0.4995,      0.5005,      0.5015,      0.5025,      0.5035,\n",
       "            0.5045,     0.50551,     0.50651,     0.50751,     0.50851,     0.50951,     0.51051,     0.51151,     0.51251,     0.51351,     0.51451,     0.51552,     0.51652,     0.51752,     0.51852,     0.51952,     0.52052,     0.52152,     0.52252,     0.52352,     0.52452,     0.52553,     0.52653,     0.52753,\n",
       "           0.52853,     0.52953,     0.53053,     0.53153,     0.53253,     0.53353,     0.53453,     0.53554,     0.53654,     0.53754,     0.53854,     0.53954,     0.54054,     0.54154,     0.54254,     0.54354,     0.54454,     0.54555,     0.54655,     0.54755,     0.54855,     0.54955,     0.55055,     0.55155,\n",
       "           0.55255,     0.55355,     0.55455,     0.55556,     0.55656,     0.55756,     0.55856,     0.55956,     0.56056,     0.56156,     0.56256,     0.56356,     0.56456,     0.56557,     0.56657,     0.56757,     0.56857,     0.56957,     0.57057,     0.57157,     0.57257,     0.57357,     0.57457,     0.57558,\n",
       "           0.57658,     0.57758,     0.57858,     0.57958,     0.58058,     0.58158,     0.58258,     0.58358,     0.58458,     0.58559,     0.58659,     0.58759,     0.58859,     0.58959,     0.59059,     0.59159,     0.59259,     0.59359,     0.59459,      0.5956,      0.5966,      0.5976,      0.5986,      0.5996,\n",
       "            0.6006,      0.6016,      0.6026,      0.6036,      0.6046,     0.60561,     0.60661,     0.60761,     0.60861,     0.60961,     0.61061,     0.61161,     0.61261,     0.61361,     0.61461,     0.61562,     0.61662,     0.61762,     0.61862,     0.61962,     0.62062,     0.62162,     0.62262,     0.62362,\n",
       "           0.62462,     0.62563,     0.62663,     0.62763,     0.62863,     0.62963,     0.63063,     0.63163,     0.63263,     0.63363,     0.63463,     0.63564,     0.63664,     0.63764,     0.63864,     0.63964,     0.64064,     0.64164,     0.64264,     0.64364,     0.64464,     0.64565,     0.64665,     0.64765,\n",
       "           0.64865,     0.64965,     0.65065,     0.65165,     0.65265,     0.65365,     0.65465,     0.65566,     0.65666,     0.65766,     0.65866,     0.65966,     0.66066,     0.66166,     0.66266,     0.66366,     0.66466,     0.66567,     0.66667,     0.66767,     0.66867,     0.66967,     0.67067,     0.67167,\n",
       "           0.67267,     0.67367,     0.67467,     0.67568,     0.67668,     0.67768,     0.67868,     0.67968,     0.68068,     0.68168,     0.68268,     0.68368,     0.68468,     0.68569,     0.68669,     0.68769,     0.68869,     0.68969,     0.69069,     0.69169,     0.69269,     0.69369,     0.69469,      0.6957,\n",
       "            0.6967,      0.6977,      0.6987,      0.6997,      0.7007,      0.7017,      0.7027,      0.7037,      0.7047,     0.70571,     0.70671,     0.70771,     0.70871,     0.70971,     0.71071,     0.71171,     0.71271,     0.71371,     0.71471,     0.71572,     0.71672,     0.71772,     0.71872,     0.71972,\n",
       "           0.72072,     0.72172,     0.72272,     0.72372,     0.72472,     0.72573,     0.72673,     0.72773,     0.72873,     0.72973,     0.73073,     0.73173,     0.73273,     0.73373,     0.73473,     0.73574,     0.73674,     0.73774,     0.73874,     0.73974,     0.74074,     0.74174,     0.74274,     0.74374,\n",
       "           0.74474,     0.74575,     0.74675,     0.74775,     0.74875,     0.74975,     0.75075,     0.75175,     0.75275,     0.75375,     0.75475,     0.75576,     0.75676,     0.75776,     0.75876,     0.75976,     0.76076,     0.76176,     0.76276,     0.76376,     0.76476,     0.76577,     0.76677,     0.76777,\n",
       "           0.76877,     0.76977,     0.77077,     0.77177,     0.77277,     0.77377,     0.77477,     0.77578,     0.77678,     0.77778,     0.77878,     0.77978,     0.78078,     0.78178,     0.78278,     0.78378,     0.78478,     0.78579,     0.78679,     0.78779,     0.78879,     0.78979,     0.79079,     0.79179,\n",
       "           0.79279,     0.79379,     0.79479,      0.7958,      0.7968,      0.7978,      0.7988,      0.7998,      0.8008,      0.8018,      0.8028,      0.8038,      0.8048,     0.80581,     0.80681,     0.80781,     0.80881,     0.80981,     0.81081,     0.81181,     0.81281,     0.81381,     0.81481,     0.81582,\n",
       "           0.81682,     0.81782,     0.81882,     0.81982,     0.82082,     0.82182,     0.82282,     0.82382,     0.82482,     0.82583,     0.82683,     0.82783,     0.82883,     0.82983,     0.83083,     0.83183,     0.83283,     0.83383,     0.83483,     0.83584,     0.83684,     0.83784,     0.83884,     0.83984,\n",
       "           0.84084,     0.84184,     0.84284,     0.84384,     0.84484,     0.84585,     0.84685,     0.84785,     0.84885,     0.84985,     0.85085,     0.85185,     0.85285,     0.85385,     0.85485,     0.85586,     0.85686,     0.85786,     0.85886,     0.85986,     0.86086,     0.86186,     0.86286,     0.86386,\n",
       "           0.86486,     0.86587,     0.86687,     0.86787,     0.86887,     0.86987,     0.87087,     0.87187,     0.87287,     0.87387,     0.87487,     0.87588,     0.87688,     0.87788,     0.87888,     0.87988,     0.88088,     0.88188,     0.88288,     0.88388,     0.88488,     0.88589,     0.88689,     0.88789,\n",
       "           0.88889,     0.88989,     0.89089,     0.89189,     0.89289,     0.89389,     0.89489,      0.8959,      0.8969,      0.8979,      0.8989,      0.8999,      0.9009,      0.9019,      0.9029,      0.9039,      0.9049,     0.90591,     0.90691,     0.90791,     0.90891,     0.90991,     0.91091,     0.91191,\n",
       "           0.91291,     0.91391,     0.91491,     0.91592,     0.91692,     0.91792,     0.91892,     0.91992,     0.92092,     0.92192,     0.92292,     0.92392,     0.92492,     0.92593,     0.92693,     0.92793,     0.92893,     0.92993,     0.93093,     0.93193,     0.93293,     0.93393,     0.93493,     0.93594,\n",
       "           0.93694,     0.93794,     0.93894,     0.93994,     0.94094,     0.94194,     0.94294,     0.94394,     0.94494,     0.94595,     0.94695,     0.94795,     0.94895,     0.94995,     0.95095,     0.95195,     0.95295,     0.95395,     0.95495,     0.95596,     0.95696,     0.95796,     0.95896,     0.95996,\n",
       "           0.96096,     0.96196,     0.96296,     0.96396,     0.96496,     0.96597,     0.96697,     0.96797,     0.96897,     0.96997,     0.97097,     0.97197,     0.97297,     0.97397,     0.97497,     0.97598,     0.97698,     0.97798,     0.97898,     0.97998,     0.98098,     0.98198,     0.98298,     0.98398,\n",
       "           0.98498,     0.98599,     0.98699,     0.98799,     0.98899,     0.98999,     0.99099,     0.99199,     0.99299,     0.99399,     0.99499,       0.996,       0.997,       0.998,       0.999,           1]), array([[    0.99505,     0.99505,      0.9901,      0.9901,      0.9901,      0.9901,     0.98515,     0.98515,     0.98515,     0.98515,     0.98515,     0.98515,     0.98515,     0.98515,     0.98515,     0.98515,     0.98515,     0.98515,     0.98515,     0.98355,      0.9802,      0.9802,      0.9802,\n",
       "             0.9802,      0.9802,      0.9802,      0.9802,      0.9802,      0.9802,      0.9802,      0.9802,      0.9802,      0.9802,      0.9802,      0.9802,      0.9802,      0.9802,      0.9802,      0.9802,      0.9802,      0.9802,      0.9802,      0.9802,      0.9802,      0.9802,      0.9802,\n",
       "             0.9802,      0.9802,      0.9802,      0.9802,      0.9802,      0.9802,      0.9802,      0.9802,      0.9802,      0.9802,      0.9802,      0.9802,      0.9802,      0.9802,      0.9802,      0.9802,      0.9802,      0.9802,      0.9802,      0.9802,      0.9802,      0.9802,      0.9802,\n",
       "             0.9802,      0.9802,      0.9802,      0.9802,      0.9802,      0.9802,      0.9753,     0.97525,     0.97525,     0.97525,     0.97525,     0.97525,     0.97525,     0.97525,     0.97525,     0.97525,     0.97525,     0.97525,     0.97525,     0.97525,     0.97461,      0.9738,     0.97298,\n",
       "            0.97217,     0.97136,     0.97055,      0.9703,      0.9703,      0.9703,      0.9703,      0.9703,      0.9703,      0.9703,      0.9703,      0.9703,      0.9703,      0.9703,      0.9703,      0.9703,      0.9703,      0.9703,      0.9703,      0.9703,      0.9703,      0.9703,      0.9703,\n",
       "             0.9703,      0.9703,      0.9703,      0.9703,      0.9703,      0.9703,      0.9703,      0.9703,      0.9703,      0.9703,      0.9703,      0.9703,      0.9703,      0.9703,      0.9703,      0.9703,      0.9703,      0.9703,      0.9703,      0.9703,      0.9703,      0.9703,      0.9703,\n",
       "             0.9703,      0.9703,      0.9703,      0.9703,      0.9703,      0.9703,      0.9703,      0.9703,      0.9703,      0.9703,      0.9703,      0.9703,      0.9703,      0.9703,      0.9703,      0.9703,      0.9703,      0.9703,      0.9703,      0.9703,      0.9703,     0.96927,     0.96759,\n",
       "             0.9659,     0.96498,       0.964,     0.96302,     0.96203,     0.96105,      0.9604,      0.9604,      0.9604,      0.9604,      0.9604,      0.9604,      0.9604,      0.9604,      0.9604,      0.9604,      0.9604,      0.9604,      0.9604,      0.9604,      0.9604,      0.9604,      0.9604,\n",
       "             0.9604,      0.9604,      0.9604,     0.95979,     0.95917,     0.95856,     0.95794,     0.95732,     0.95671,     0.95609,     0.95548,     0.95545,     0.95545,     0.95545,     0.95545,     0.95545,     0.95545,     0.95545,     0.95545,     0.95545,     0.95545,     0.95545,     0.95545,\n",
       "            0.95545,     0.95488,      0.9543,     0.95372,     0.95314,     0.95256,     0.95198,      0.9514,     0.95082,      0.9505,      0.9505,      0.9505,      0.9505,      0.9505,      0.9505,      0.9505,      0.9505,      0.9505,      0.9505,      0.9505,      0.9505,      0.9505,      0.9505,\n",
       "             0.9505,      0.9505,      0.9505,      0.9505,      0.9505,      0.9505,      0.9505,      0.9505,      0.9505,      0.9505,      0.9505,      0.9505,      0.9505,      0.9505,      0.9505,      0.9505,      0.9505,      0.9505,      0.9505,      0.9505,      0.9505,      0.9505,      0.9505,\n",
       "             0.9505,      0.9505,      0.9505,      0.9505,      0.9505,      0.9505,      0.9505,      0.9505,      0.9505,      0.9505,      0.9505,      0.9505,      0.9505,      0.9505,      0.9505,      0.9505,      0.9505,      0.9505,      0.9505,      0.9505,      0.9505,      0.9505,     0.95021,\n",
       "            0.94889,     0.94757,     0.94625,     0.94554,     0.94554,     0.94554,     0.94554,     0.94554,     0.94554,     0.94554,     0.94554,     0.94554,     0.94554,     0.94554,     0.94554,     0.94554,     0.94311,     0.94052,     0.94007,     0.93962,     0.93917,     0.93872,     0.93827,\n",
       "            0.93782,     0.93737,     0.93692,     0.93647,     0.93602,     0.93545,     0.93433,      0.9332,     0.93208,     0.93095,     0.93031,     0.92982,     0.92933,     0.92883,     0.92834,     0.92785,     0.92736,     0.92686,     0.92637,     0.92588,     0.92574,     0.92574,     0.92574,\n",
       "            0.92574,     0.92574,     0.92574,     0.92574,     0.92574,     0.92574,     0.92574,     0.92574,     0.92574,     0.92574,     0.92574,     0.92574,     0.92574,     0.92574,     0.92574,     0.92574,     0.92574,     0.92574,     0.92574,     0.92574,     0.92574,     0.92574,     0.92574,\n",
       "            0.92574,     0.92574,     0.92574,     0.92574,     0.92574,     0.92574,     0.92574,     0.92574,     0.92574,     0.92574,     0.92574,     0.92574,     0.92574,     0.92574,     0.92574,     0.92574,     0.92574,     0.92574,     0.92574,     0.92574,     0.92574,     0.92574,     0.92574,\n",
       "            0.92564,      0.9254,     0.92516,     0.92491,     0.92467,     0.92442,     0.92418,     0.92394,     0.92369,     0.92345,      0.9232,     0.92296,     0.92272,     0.92247,     0.92223,     0.92199,     0.92174,      0.9215,     0.92125,     0.92101,     0.92079,     0.92079,     0.92079,\n",
       "            0.92079,     0.92079,     0.92079,     0.92079,     0.92079,     0.92079,     0.92079,     0.92079,     0.92079,     0.92079,     0.92079,     0.92079,     0.92079,     0.92075,     0.92063,     0.92051,     0.92039,     0.92027,     0.92014,     0.92002,      0.9199,     0.91978,     0.91966,\n",
       "            0.91954,     0.91942,      0.9193,     0.91918,     0.91906,     0.91894,     0.91882,      0.9187,     0.91858,     0.91846,     0.91833,     0.91821,     0.91809,     0.91797,     0.91785,     0.91773,     0.91761,     0.91749,     0.91737,     0.91725,     0.91713,     0.91701,     0.91689,\n",
       "            0.91677,     0.91665,     0.91652,      0.9164,     0.91628,     0.91616,     0.91604,     0.91592,     0.91584,     0.91584,     0.91584,     0.91559,     0.91441,     0.91324,     0.91207,      0.9109,     0.90993,     0.90897,     0.90801,     0.90705,     0.90608,      0.9058,     0.90563,\n",
       "            0.90546,     0.90529,     0.90512,     0.90495,     0.90478,     0.90461,     0.90444,     0.90427,      0.9041,     0.90393,     0.90376,     0.90359,     0.90342,     0.90325,     0.90308,     0.90291,     0.90274,     0.90257,      0.9024,     0.90223,     0.90206,     0.90189,     0.90172,\n",
       "            0.90155,     0.90139,     0.90122,     0.90105,     0.90037,     0.89944,     0.89851,     0.89758,     0.89665,     0.89593,     0.89563,     0.89532,     0.89501,      0.8947,     0.89439,     0.89409,     0.89378,     0.89347,     0.89316,     0.89285,     0.89255,     0.89224,     0.89193,\n",
       "            0.89162,     0.89131,     0.89109,     0.89109,     0.89109,     0.89109,     0.89109,     0.89109,     0.89109,     0.89109,     0.89109,     0.89109,     0.89109,     0.89109,     0.89109,     0.89109,     0.89109,     0.89109,     0.89108,     0.89095,     0.89081,     0.89067,     0.89054,\n",
       "             0.8904,     0.89026,     0.89012,     0.88999,     0.88985,     0.88971,     0.88958,     0.88944,      0.8893,     0.88917,     0.88903,     0.88889,     0.88876,     0.88862,     0.88848,     0.88835,     0.88821,     0.88807,     0.88793,      0.8878,     0.88766,     0.88752,     0.88739,\n",
       "            0.88725,     0.88711,     0.88698,     0.88684,      0.8867,     0.88657,     0.88643,     0.88629,     0.88616,     0.88539,     0.88454,     0.88368,     0.88283,     0.88198,     0.88119,     0.88119,     0.88119,     0.88119,     0.88119,     0.88119,     0.88108,     0.87989,      0.8787,\n",
       "            0.87751,     0.87632,     0.87476,     0.87318,      0.8716,     0.87118,     0.87105,     0.87092,     0.87079,     0.87065,     0.87052,     0.87039,     0.87026,     0.87012,     0.86999,     0.86986,     0.86973,      0.8696,     0.86946,     0.86933,      0.8692,     0.86907,     0.86894,\n",
       "             0.8688,     0.86867,     0.86854,     0.86841,     0.86828,     0.86814,     0.86801,     0.86788,     0.86775,     0.86762,     0.86748,     0.86735,     0.86722,     0.86709,     0.86696,     0.86682,     0.86669,     0.86656,     0.86643,     0.86626,     0.86601,     0.86577,     0.86552,\n",
       "            0.86527,     0.86502,     0.86477,     0.86453,     0.86428,     0.86403,     0.86378,     0.86353,     0.86329,     0.86304,     0.86279,     0.86254,      0.8623,     0.86205,      0.8618,     0.86155,     0.85675,     0.85613,     0.85582,     0.85552,     0.85521,      0.8549,     0.85459,\n",
       "            0.85428,     0.85397,     0.85366,     0.85335,     0.85304,     0.85273,     0.85242,     0.85211,     0.85181,      0.8515,     0.85028,     0.84904,     0.84779,     0.84654,     0.84641,     0.84628,     0.84615,     0.84602,     0.84589,     0.84576,     0.84563,      0.8455,     0.84537,\n",
       "            0.84524,     0.84511,     0.84498,     0.84485,     0.84472,     0.84459,     0.84446,     0.84432,     0.84419,     0.84406,     0.84393,      0.8438,     0.84367,     0.84354,     0.84341,     0.84328,     0.84315,     0.84302,     0.84289,     0.84276,     0.84263,      0.8425,     0.84237,\n",
       "            0.84224,     0.84211,     0.84198,     0.84185,     0.84172,     0.84159,     0.83877,     0.83647,     0.83594,     0.83541,     0.83487,     0.83434,     0.83381,     0.83327,     0.83274,     0.83221,     0.83162,     0.82869,     0.82662,     0.82629,     0.82596,     0.82563,     0.82531,\n",
       "            0.82498,     0.82465,     0.82432,     0.82399,     0.82366,     0.82333,       0.823,     0.82267,     0.82234,     0.82201,     0.82147,     0.82041,     0.81935,     0.81829,     0.81722,     0.81633,     0.81554,     0.81475,     0.81396,     0.81316,     0.81237,     0.81134,     0.80992,\n",
       "            0.80851,     0.80709,     0.80554,     0.80396,     0.80239,     0.80113,     0.79998,     0.79884,     0.79769,      0.7962,     0.79425,     0.79231,     0.78957,     0.78703,     0.78631,     0.78559,     0.78487,     0.78415,     0.78343,     0.78272,     0.78187,     0.78064,      0.7794,\n",
       "            0.77817,      0.7767,     0.77445,      0.7722,        0.77,      0.7678,     0.76677,     0.76606,     0.76535,     0.76464,     0.76393,     0.76322,     0.76251,     0.75732,     0.75655,     0.75578,     0.75501,     0.75424,     0.75346,     0.75269,     0.74829,     0.74619,     0.74466,\n",
       "            0.74312,     0.73969,     0.73609,     0.73325,      0.7318,      0.7307,      0.7296,      0.7285,     0.72728,     0.72576,     0.72423,     0.72266,     0.71993,     0.71682,     0.71282,     0.71227,     0.71172,     0.71117,     0.71062,     0.71006,     0.70951,     0.70896,     0.70841,\n",
       "             0.7074,     0.70267,     0.69852,     0.69465,     0.69237,     0.69118,        0.69,     0.68881,     0.68767,      0.6866,     0.68552,     0.68445,     0.68338,     0.68077,     0.67776,     0.67456,     0.67049,     0.65926,     0.65221,     0.64645,     0.64336,     0.64206,     0.64077,\n",
       "            0.63947,     0.63368,     0.63044,     0.62263,     0.61981,     0.61713,     0.61453,     0.61215,     0.60985,     0.60655,     0.59901,     0.59807,     0.59712,     0.59618,     0.59523,     0.59429,     0.59152,     0.58784,     0.58381,     0.58201,      0.5802,     0.57894,     0.57834,\n",
       "            0.57774,     0.57714,     0.57654,     0.57594,     0.57535,     0.57475,     0.57362,     0.57011,     0.56369,     0.56254,      0.5614,     0.56025,     0.55904,     0.55766,     0.55627,     0.55489,     0.54438,     0.54318,     0.54198,     0.54078,     0.53954,     0.53684,     0.53295,\n",
       "            0.52859,     0.52685,     0.52512,     0.51384,     0.50921,     0.50657,     0.50145,     0.49494,      0.4899,     0.48796,     0.48601,     0.47363,     0.46999,      0.4684,      0.4668,      0.4649,     0.45892,     0.45237,      0.4497,      0.4481,      0.4465,     0.44423,     0.44095,\n",
       "            0.43958,     0.43844,      0.4373,     0.43616,     0.43497,     0.43373,     0.43249,     0.43126,     0.42796,     0.41634,      0.3984,     0.38775,     0.37754,      0.3743,     0.37204,     0.36313,     0.35734,     0.34824,     0.34029,      0.3384,     0.33636,     0.33202,      0.3277,\n",
       "            0.31446,     0.29636,     0.28358,     0.27564,     0.27295,     0.26078,     0.25623,     0.24813,       0.243,     0.23294,     0.22694,     0.22466,     0.21659,     0.19401,     0.17297,     0.15335,     0.15106,     0.14877,     0.14524,     0.13208,     0.12735,     0.12232,     0.11582,\n",
       "             0.1084,    0.088583,    0.079103,    0.077187,     0.07527,    0.073228,    0.071046,    0.068168,    0.063069,    0.059147,    0.056198,    0.048009,    0.044143,    0.042288,    0.040432,    0.039139,    0.038299,    0.037459,    0.036619,    0.035779,    0.034939,    0.031606,    0.023307,\n",
       "           0.018706,    0.015774,      0.0135,    0.011528,   0.0072665,           0,           0,           0,           0,           0,           0,           0,           0,           0,           0,           0,           0,           0,           0,           0,           0,           0,           0,\n",
       "                  0,           0,           0,           0,           0,           0,           0,           0,           0,           0,           0]]), 'Confidence', 'Recall']]\n",
       "fitness: 0.7808495696183999\n",
       "keys: ['metrics/precision(B)', 'metrics/recall(B)', 'metrics/mAP50(B)', 'metrics/mAP50-95(B)']\n",
       "maps: array([    0.75827,     0.75827])\n",
       "names: {0: 'negative', 1: 'positive'}\n",
       "plot: True\n",
       "results_dict: {'metrics/precision(B)': 0.9841200590437864, 'metrics/recall(B)': 0.920386036210922, 'metrics/mAP50(B)': 0.9840521094947335, 'metrics/mAP50-95(B)': 0.7582715096321405, 'fitness': 0.7808495696183999}\n",
       "save_dir: WindowsPath('runs/detect/train3')\n",
       "speed: {'preprocess': 12.166048414144084, 'inference': 826.0172144252451, 'loss': 0.0, 'postprocess': 0.09904434932536216}\n",
       "task: 'detect'"
      ]
     },
     "execution_count": 3,
     "metadata": {},
     "output_type": "execute_result"
    }
   ],
   "source": [
    "# Define custom training parameters\n",
    "params = {\n",
    "    'data': 'C:/Users/zoyak/Downloads/brain-tumor/data.yaml',\n",
    "    'epochs': 30,           # Number of epochs\n",
    "    'imgsz': 640,            # Image size\n",
    "    'cache': False,          # Enable caching\n",
    "    'patience': 10,          # Early stopping patience\n",
    "    'lr0': 0.01,             # Initial learning rate\n",
    "    'lrf': 0.001,            # Final learning rate\n",
    "    'degrees': 0.0,          # Image augmentation (rotation)\n",
    "    'translate': 0.1,        # Image augmentation (translation)\n",
    "    'scale': 0.5,            # Image augmentation (scale)\n",
    "    'shear': 0.0,            # Image augmentation (shear)\n",
    "    'perspective': 0.0,      # Image augmentation (perspective)\n",
    "    'flipud': 0.0,           # Image augmentation (vertical flip)\n",
    "    'fliplr': 0.5,           # Image augmentation (horizontal flip)\n",
    "}\n",
    "# Train the model with custom parameters\n",
    "model.train(**params)"
   ]
  }
 ],
 "metadata": {
  "kernelspec": {
   "display_name": "new_env",
   "language": "python",
   "name": "python3"
  },
  "language_info": {
   "codemirror_mode": {
    "name": "ipython",
    "version": 3
   },
   "file_extension": ".py",
   "mimetype": "text/x-python",
   "name": "python",
   "nbconvert_exporter": "python",
   "pygments_lexer": "ipython3",
   "version": "3.9.20"
  }
 },
 "nbformat": 4,
 "nbformat_minor": 2
}
